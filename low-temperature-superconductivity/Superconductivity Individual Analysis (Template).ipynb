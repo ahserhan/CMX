{
 "cells": [
  {
   "attachments": {},
   "cell_type": "markdown",
   "metadata": {},
   "source": [
    "# Superconductivity Individual Analysis\n",
    "\n"
   ]
  },
  {
   "cell_type": "code",
   "execution_count": 26,
   "metadata": {},
   "outputs": [],
   "source": [
    "import numpy as np\n",
    "import scipy.constants as const\n",
    "import uncertainties as unc\n",
    "import uncertainties.unumpy as unp\n",
    "import matplotlib.pyplot as plt\n",
    "import pandas as pd\n",
    "%matplotlib inline"
   ]
  },
  {
   "cell_type": "markdown",
   "metadata": {},
   "source": [
    "## Prior to working on this notebook:\n",
    "\n",
    "1. Extract the transition points ($I$ in paper units) versus pressure readings ($P$ in voltage units scaled to mmHg, called \"torr\") from the data scans. Make a table.\n",
    "\n",
    "2. Use the “1958 He Scale of Temperatures” or the [online calculator from Quantum Design](https://qdusa.com/support/helium_vapor_pressure.html) to convert the pressure readings to temperature $T$ (K).\n",
    "\n",
    "3. Extract the current calibration points (in paper units) versus current readings from the data scan, sheet 2. Make a table.\n",
    "\n",
    "### Then...\n",
    "4. Import the tables of temperature versus transition points (in paper units) and calibration current versus calibration points (in paper units) into your Python notebook.\n",
    "\n",
    "5. Create a calibration function to convert paper units to current, and from current to magnetic field, using the magnet calibration curve in figure 5 of the instructions.\n",
    "\n",
    "6. Convert the transition points from paper units to magnetic field Hc (gauss).\n",
    "\n",
    "7. Plot $H_c$ vs. $T$.\n",
    "\n",
    "8. Fit the above using two different methods: (A) linearize the data, then fit to a line and obtain the slope and intercept, and (B) fit to the functional form of equation (1) in the instructions.  From both ways of fitting, find the critical temperature at zero field $T_c$ and the critical field at 0K $H_{c0}$.\n",
    "\n",
    "9. Obtain the uncertainties in the results from the fits, and compare them to each other and to the values found in a handbook or text.\n"
   ]
  },
  {
   "cell_type": "markdown",
   "metadata": {},
   "source": [
    "## Import data tables\n",
    "\n",
    "Display them so that you know they are correct.\n",
    "\n",
    "Import $P(V)$, $T(K)$ and $I$, $dI$ (in paper units)."
   ]
  },
  {
   "cell_type": "code",
   "execution_count": 3,
   "metadata": {},
   "outputs": [
    {
     "data": {
      "text/html": [
       "<div>\n",
       "<style scoped>\n",
       "    .dataframe tbody tr th:only-of-type {\n",
       "        vertical-align: middle;\n",
       "    }\n",
       "\n",
       "    .dataframe tbody tr th {\n",
       "        vertical-align: top;\n",
       "    }\n",
       "\n",
       "    .dataframe thead th {\n",
       "        text-align: right;\n",
       "    }\n",
       "</style>\n",
       "<table border=\"1\" class=\"dataframe\">\n",
       "  <thead>\n",
       "    <tr style=\"text-align: right;\">\n",
       "      <th></th>\n",
       "      <th>Torr</th>\n",
       "      <th>K</th>\n",
       "      <th>dI</th>\n",
       "    </tr>\n",
       "  </thead>\n",
       "  <tbody>\n",
       "    <tr>\n",
       "      <th>0</th>\n",
       "      <td>650.3</td>\n",
       "      <td>4.061</td>\n",
       "      <td>0.060000</td>\n",
       "    </tr>\n",
       "    <tr>\n",
       "      <th>1</th>\n",
       "      <td>625.5</td>\n",
       "      <td>4.021</td>\n",
       "      <td>0.144706</td>\n",
       "    </tr>\n",
       "    <tr>\n",
       "      <th>2</th>\n",
       "      <td>599.7</td>\n",
       "      <td>3.980</td>\n",
       "      <td>0.238824</td>\n",
       "    </tr>\n",
       "    <tr>\n",
       "      <th>3</th>\n",
       "      <td>574.9</td>\n",
       "      <td>3.938</td>\n",
       "      <td>0.323529</td>\n",
       "    </tr>\n",
       "    <tr>\n",
       "      <th>4</th>\n",
       "      <td>551.3</td>\n",
       "      <td>3.898</td>\n",
       "      <td>0.422353</td>\n",
       "    </tr>\n",
       "    <tr>\n",
       "      <th>5</th>\n",
       "      <td>525.4</td>\n",
       "      <td>3.852</td>\n",
       "      <td>0.516471</td>\n",
       "    </tr>\n",
       "    <tr>\n",
       "      <th>6</th>\n",
       "      <td>500.6</td>\n",
       "      <td>3.807</td>\n",
       "      <td>0.605882</td>\n",
       "    </tr>\n",
       "    <tr>\n",
       "      <th>7</th>\n",
       "      <td>475.0</td>\n",
       "      <td>3.759</td>\n",
       "      <td>0.704941</td>\n",
       "    </tr>\n",
       "    <tr>\n",
       "      <th>8</th>\n",
       "      <td>450.0</td>\n",
       "      <td>3.710</td>\n",
       "      <td>0.812941</td>\n",
       "    </tr>\n",
       "    <tr>\n",
       "      <th>9</th>\n",
       "      <td>424.3</td>\n",
       "      <td>3.657</td>\n",
       "      <td>0.921176</td>\n",
       "    </tr>\n",
       "    <tr>\n",
       "      <th>10</th>\n",
       "      <td>402.0</td>\n",
       "      <td>3.610</td>\n",
       "      <td>1.020000</td>\n",
       "    </tr>\n",
       "    <tr>\n",
       "      <th>11</th>\n",
       "      <td>375.8</td>\n",
       "      <td>3.553</td>\n",
       "      <td>1.151760</td>\n",
       "    </tr>\n",
       "    <tr>\n",
       "      <th>12</th>\n",
       "      <td>350.1</td>\n",
       "      <td>3.493</td>\n",
       "      <td>1.260000</td>\n",
       "    </tr>\n",
       "    <tr>\n",
       "      <th>13</th>\n",
       "      <td>325.9</td>\n",
       "      <td>3.435</td>\n",
       "      <td>1.382350</td>\n",
       "    </tr>\n",
       "    <tr>\n",
       "      <th>14</th>\n",
       "      <td>299.9</td>\n",
       "      <td>3.369</td>\n",
       "      <td>1.509410</td>\n",
       "    </tr>\n",
       "    <tr>\n",
       "      <th>15</th>\n",
       "      <td>275.3</td>\n",
       "      <td>3.302</td>\n",
       "      <td>1.650590</td>\n",
       "    </tr>\n",
       "    <tr>\n",
       "      <th>16</th>\n",
       "      <td>249.5</td>\n",
       "      <td>3.228</td>\n",
       "      <td>1.782350</td>\n",
       "    </tr>\n",
       "    <tr>\n",
       "      <th>17</th>\n",
       "      <td>226.1</td>\n",
       "      <td>3.157</td>\n",
       "      <td>1.932940</td>\n",
       "    </tr>\n",
       "    <tr>\n",
       "      <th>18</th>\n",
       "      <td>201.2</td>\n",
       "      <td>3.074</td>\n",
       "      <td>2.078820</td>\n",
       "    </tr>\n",
       "    <tr>\n",
       "      <th>19</th>\n",
       "      <td>176.2</td>\n",
       "      <td>2.984</td>\n",
       "      <td>2.238820</td>\n",
       "    </tr>\n",
       "    <tr>\n",
       "      <th>20</th>\n",
       "      <td>150.3</td>\n",
       "      <td>2.882</td>\n",
       "      <td>2.412940</td>\n",
       "    </tr>\n",
       "    <tr>\n",
       "      <th>21</th>\n",
       "      <td>125.7</td>\n",
       "      <td>2.772</td>\n",
       "      <td>2.596470</td>\n",
       "    </tr>\n",
       "    <tr>\n",
       "      <th>22</th>\n",
       "      <td>100.9</td>\n",
       "      <td>2.646</td>\n",
       "      <td>2.803530</td>\n",
       "    </tr>\n",
       "    <tr>\n",
       "      <th>23</th>\n",
       "      <td>76.9</td>\n",
       "      <td>2.501</td>\n",
       "      <td>3.034120</td>\n",
       "    </tr>\n",
       "    <tr>\n",
       "      <th>24</th>\n",
       "      <td>51.0</td>\n",
       "      <td>2.305</td>\n",
       "      <td>3.274120</td>\n",
       "    </tr>\n",
       "    <tr>\n",
       "      <th>25</th>\n",
       "      <td>31.5</td>\n",
       "      <td>2.105</td>\n",
       "      <td>3.570590</td>\n",
       "    </tr>\n",
       "    <tr>\n",
       "      <th>26</th>\n",
       "      <td>15.6</td>\n",
       "      <td>1.869</td>\n",
       "      <td>3.848240</td>\n",
       "    </tr>\n",
       "    <tr>\n",
       "      <th>27</th>\n",
       "      <td>7.8</td>\n",
       "      <td>1.680</td>\n",
       "      <td>4.055300</td>\n",
       "    </tr>\n",
       "    <tr>\n",
       "      <th>28</th>\n",
       "      <td>4.7</td>\n",
       "      <td>1.561</td>\n",
       "      <td>4.163530</td>\n",
       "    </tr>\n",
       "    <tr>\n",
       "      <th>29</th>\n",
       "      <td>3.5</td>\n",
       "      <td>1.498</td>\n",
       "      <td>4.205880</td>\n",
       "    </tr>\n",
       "    <tr>\n",
       "      <th>30</th>\n",
       "      <td>3.1</td>\n",
       "      <td>1.473</td>\n",
       "      <td>4.234120</td>\n",
       "    </tr>\n",
       "  </tbody>\n",
       "</table>\n",
       "</div>"
      ],
      "text/plain": [
       "     Torr      K        dI\n",
       "0   650.3  4.061  0.060000\n",
       "1   625.5  4.021  0.144706\n",
       "2   599.7  3.980  0.238824\n",
       "3   574.9  3.938  0.323529\n",
       "4   551.3  3.898  0.422353\n",
       "5   525.4  3.852  0.516471\n",
       "6   500.6  3.807  0.605882\n",
       "7   475.0  3.759  0.704941\n",
       "8   450.0  3.710  0.812941\n",
       "9   424.3  3.657  0.921176\n",
       "10  402.0  3.610  1.020000\n",
       "11  375.8  3.553  1.151760\n",
       "12  350.1  3.493  1.260000\n",
       "13  325.9  3.435  1.382350\n",
       "14  299.9  3.369  1.509410\n",
       "15  275.3  3.302  1.650590\n",
       "16  249.5  3.228  1.782350\n",
       "17  226.1  3.157  1.932940\n",
       "18  201.2  3.074  2.078820\n",
       "19  176.2  2.984  2.238820\n",
       "20  150.3  2.882  2.412940\n",
       "21  125.7  2.772  2.596470\n",
       "22  100.9  2.646  2.803530\n",
       "23   76.9  2.501  3.034120\n",
       "24   51.0  2.305  3.274120\n",
       "25   31.5  2.105  3.570590\n",
       "26   15.6  1.869  3.848240\n",
       "27    7.8  1.680  4.055300\n",
       "28    4.7  1.561  4.163530\n",
       "29    3.5  1.498  4.205880\n",
       "30    3.1  1.473  4.234120"
      ]
     },
     "execution_count": 3,
     "metadata": {},
     "output_type": "execute_result"
    }
   ],
   "source": [
    "# reading in the experiment data\n",
    "data = pd.read_csv('XData.csv')\n",
    "data"
   ]
  },
  {
   "cell_type": "markdown",
   "metadata": {},
   "source": [
    "Next read in the current calibration data: paper-position and Current (amps)."
   ]
  },
  {
   "cell_type": "code",
   "execution_count": null,
   "metadata": {},
   "outputs": [],
   "source": [
    "#reading in the calibration data"
   ]
  },
  {
   "cell_type": "code",
   "execution_count": 4,
   "metadata": {},
   "outputs": [
    {
     "data": {
      "text/html": [
       "<div>\n",
       "<style scoped>\n",
       "    .dataframe tbody tr th:only-of-type {\n",
       "        vertical-align: middle;\n",
       "    }\n",
       "\n",
       "    .dataframe tbody tr th {\n",
       "        vertical-align: top;\n",
       "    }\n",
       "\n",
       "    .dataframe thead th {\n",
       "        text-align: right;\n",
       "    }\n",
       "</style>\n",
       "<table border=\"1\" class=\"dataframe\">\n",
       "  <thead>\n",
       "    <tr style=\"text-align: right;\">\n",
       "      <th></th>\n",
       "      <th>dI</th>\n",
       "      <th>x</th>\n",
       "    </tr>\n",
       "  </thead>\n",
       "  <tbody>\n",
       "    <tr>\n",
       "      <th>0</th>\n",
       "      <td>0.000</td>\n",
       "      <td>-0.005882</td>\n",
       "    </tr>\n",
       "    <tr>\n",
       "      <th>1</th>\n",
       "      <td>0.100</td>\n",
       "      <td>0.502353</td>\n",
       "    </tr>\n",
       "    <tr>\n",
       "      <th>2</th>\n",
       "      <td>0.200</td>\n",
       "      <td>1.010590</td>\n",
       "    </tr>\n",
       "    <tr>\n",
       "      <th>3</th>\n",
       "      <td>0.300</td>\n",
       "      <td>1.518820</td>\n",
       "    </tr>\n",
       "    <tr>\n",
       "      <th>4</th>\n",
       "      <td>0.400</td>\n",
       "      <td>2.022350</td>\n",
       "    </tr>\n",
       "    <tr>\n",
       "      <th>5</th>\n",
       "      <td>0.518</td>\n",
       "      <td>2.624710</td>\n",
       "    </tr>\n",
       "    <tr>\n",
       "      <th>6</th>\n",
       "      <td>0.599</td>\n",
       "      <td>3.038820</td>\n",
       "    </tr>\n",
       "    <tr>\n",
       "      <th>7</th>\n",
       "      <td>0.700</td>\n",
       "      <td>3.547060</td>\n",
       "    </tr>\n",
       "    <tr>\n",
       "      <th>8</th>\n",
       "      <td>0.800</td>\n",
       "      <td>4.060000</td>\n",
       "    </tr>\n",
       "    <tr>\n",
       "      <th>9</th>\n",
       "      <td>0.900</td>\n",
       "      <td>4.563530</td>\n",
       "    </tr>\n",
       "    <tr>\n",
       "      <th>10</th>\n",
       "      <td>0.999</td>\n",
       "      <td>5.071760</td>\n",
       "    </tr>\n",
       "  </tbody>\n",
       "</table>\n",
       "</div>"
      ],
      "text/plain": [
       "       dI         x\n",
       "0   0.000 -0.005882\n",
       "1   0.100  0.502353\n",
       "2   0.200  1.010590\n",
       "3   0.300  1.518820\n",
       "4   0.400  2.022350\n",
       "5   0.518  2.624710\n",
       "6   0.599  3.038820\n",
       "7   0.700  3.547060\n",
       "8   0.800  4.060000\n",
       "9   0.900  4.563530\n",
       "10  0.999  5.071760"
      ]
     },
     "execution_count": 4,
     "metadata": {},
     "output_type": "execute_result"
    }
   ],
   "source": [
    "calib = pd.read_csv('CalibData.csv')\n",
    "calib"
   ]
  },
  {
   "cell_type": "markdown",
   "metadata": {},
   "source": [
    "## Fit the current calibration data\n",
    "\n",
    "Make a line fit, and obtain the slope and intercept."
   ]
  },
  {
   "cell_type": "code",
   "execution_count": 5,
   "metadata": {},
   "outputs": [],
   "source": [
    "# Set  up the Model\n",
    "\n",
    "# Import the Linear model.\n",
    "from lmfit.models import LinearModel\n",
    "\n",
    "# create an instance of the model\n",
    "line = LinearModel()"
   ]
  },
  {
   "cell_type": "code",
   "execution_count": 6,
   "metadata": {},
   "outputs": [
    {
     "data": {
      "text/html": [
       "<h2> Model</h2> Model(linear) <h2>Fit Statistics</h2><table><tr><td>fitting method</td><td>leastsq</td><td></td></tr><tr><td># function evals</td><td>4</td><td></td></tr><tr><td># data points</td><td>11</td><td></td></tr><tr><td># variables</td><td>2</td><td></td></tr><tr><td>chi-square</td><td> 1.7486e-06</td><td></td></tr><tr><td>reduced chi-square</td><td> 1.9429e-07</td><td></td></tr><tr><td>Akaike info crit.</td><td>-168.200427</td><td></td></tr><tr><td>Bayesian info crit.</td><td>-167.404637</td><td></td></tr><tr><td>R-squared</td><td> 0.99999841</td><td></td></tr></table><h2>Variables</h2><table><tr><th> name </th><th> value </th><th> standard error </th><th> relative error </th><th> initial value </th><th> min </th><th> max </th><th> vary </th></tr><tr><td> slope </td><td>  0.19683451 </td><td>  8.2758e-05 </td><td> (0.04%) </td><td> 0.19683450577982184 </td><td>        -inf </td><td>         inf </td><td> True </td></tr><tr><td> intercept </td><td>  0.00124240 </td><td>  2.4878e-04 </td><td> (20.02%) </td><td> 0.0012424041538906508 </td><td>        -inf </td><td>         inf </td><td> True </td></tr></table><h2>Correlations (unreported correlations are < 0.100)</h2><table><tr><td>slope</td><td>intercept</td><td>-0.8454</td></tr></table>"
      ],
      "text/plain": [
       "<lmfit.model.ModelResult at 0x22342f6f130>"
      ]
     },
     "execution_count": 6,
     "metadata": {},
     "output_type": "execute_result"
    }
   ],
   "source": [
    "# Get starting parameters. \n",
    "start_params = line.guess(calib['dI'], x=calib['x'])\n",
    "\n",
    "# Feed these into the fitter and run it.\n",
    "Line_fit = line.fit(calib['dI'], start_params, x=calib['x'])\n",
    "\n",
    "# Print the fit results.\n",
    "Line_fit"
   ]
  },
  {
   "cell_type": "code",
   "execution_count": 13,
   "metadata": {},
   "outputs": [
    {
     "data": {
      "image/png": "[encoded data removed]",
      "text/plain": [
       "<Figure size 432x432 with 2 Axes>"
      ]
     },
     "metadata": {
      "needs_background": "light"
     },
     "output_type": "display_data"
    }
   ],
   "source": [
    "# Make a plot.\n",
    "Line_fit.plot()\n",
    "plt.grid(True)\n",
    "plt.title('Superconductivity Current Calibration')\n",
    "plt.xlabel('Current in Paper Unit')\n",
    "plt.ylabel('Current (A)');"
   ]
  },
  {
   "attachments": {},
   "cell_type": "markdown",
   "metadata": {},
   "source": [
    "## Make a current calibration function\n"
   ]
  },
  {
   "attachments": {},
   "cell_type": "markdown",
   "metadata": {},
   "source": [
    "As we can see, the conversion function is I = intercept +slope x dI. So we define this function below (using the given uncertainties):"
   ]
  },
  {
   "cell_type": "code",
   "execution_count": 14,
   "metadata": {},
   "outputs": [],
   "source": [
    "def x2i(x):\n",
    "    return unc.ufloat(Line_fit.params['intercept'].value, Line_fit.params['intercept'].stderr,'intercept') + unc.ufloat(Line_fit.params['slope'].value, Line_fit.params['slope'].stderr,'slope')*x"
   ]
  },
  {
   "attachments": {},
   "cell_type": "markdown",
   "metadata": {},
   "source": [
    "Then we can write another function that converts the current into magnetic field using the decreasing magnetic field equation: y = 13.558 + 423.47 x - 12.509 x^2"
   ]
  },
  {
   "cell_type": "code",
   "execution_count": 15,
   "metadata": {},
   "outputs": [],
   "source": [
    "def i2b(x):\n",
    "    return 13.558 + 423.47*x - 12.509*x**2"
   ]
  },
  {
   "cell_type": "markdown",
   "metadata": {},
   "source": [
    "## Apply the calibration\n",
    "\n",
    "Convert the transition locations to magnetic field.  You should include uncertainties."
   ]
  },
  {
   "cell_type": "code",
   "execution_count": 19,
   "metadata": {},
   "outputs": [],
   "source": [
    "#First convert the x coordinates into current, then convert current into magnetic field.\n",
    "magneticField = i2b(x2i(data['dI']))"
   ]
  },
  {
   "cell_type": "markdown",
   "metadata": {},
   "source": [
    "## Plot the reduced data set\n",
    "\n",
    "Plot the data so that it mirrors the graph shown in figure 1 of the instructions.  If you see peculiar data points, check for mistakes in transcription or other problems."
   ]
  },
  {
   "cell_type": "code",
   "execution_count": 39,
   "metadata": {},
   "outputs": [
    {
     "data": {
      "text/plain": [
       "<ErrorbarContainer object of 3 artists>"
      ]
     },
     "execution_count": 39,
     "metadata": {},
     "output_type": "execute_result"
    },
    {
     "data": {
      "image/png": "[encoded data removed]",
      "text/plain": [
       "<Figure size 648x468 with 1 Axes>"
      ]
     },
     "metadata": {
      "needs_background": "light"
     },
     "output_type": "display_data"
    }
   ],
   "source": [
    "plt.figure(figsize=(9,6.5))\n",
    "plt.grid()\n",
    "plt.title('Experimental Data of Phase Diagram for Mercury as a Superconductor')\n",
    "plt.xlabel(r' Temperature (K)')\n",
    "plt.ylabel(r' Applied Magnetic Field (B)')\n",
    "plt.errorbar(data['K'], unp.nominal_values(magneticField), yerr=100*unp.std_devs(magneticField),fmt='o')"
   ]
  },
  {
   "attachments": {},
   "cell_type": "markdown",
   "metadata": {},
   "source": [
    "### (Note: the above error-bars are multiplied by 100 for visulization.)"
   ]
  },
  {
   "cell_type": "markdown",
   "metadata": {},
   "source": [
    "## Linearize the data\n",
    "\n",
    "Rescale the data so that the relationship between the <i>x</i> and <i>y</i> values is linear.  Use equation (1) in the instructions as a guide:\n",
    "\n",
    "$$H_c(T) = H_{c0}\\left[1 - \\left(\\frac{T}{T_c}\\right)^2\\right]\\quad\\quad\\quad\\quad\\quad(1)$$\n",
    "\n",
    "Then plot the results to confirm."
   ]
  },
  {
   "cell_type": "code",
   "execution_count": null,
   "metadata": {},
   "outputs": [],
   "source": []
  },
  {
   "cell_type": "markdown",
   "metadata": {},
   "source": [
    "## Fit the linearized data\n",
    "\n",
    "Obtain the slope and intercept, plus uncertainty."
   ]
  },
  {
   "cell_type": "code",
   "execution_count": null,
   "metadata": {},
   "outputs": [],
   "source": []
  },
  {
   "cell_type": "markdown",
   "metadata": {},
   "source": [
    "## Make a nice big, clear plot\n",
    "\n",
    "Calculate the fit line from eval() and make a large plot, with a grid, data-points with error bars and the fit line on top of the data.  Make sure the fit line goes through both axes so that you can read the critical fiels and critical temperature-squared directly from the plot."
   ]
  },
  {
   "cell_type": "code",
   "execution_count": null,
   "metadata": {},
   "outputs": [],
   "source": []
  },
  {
   "cell_type": "markdown",
   "metadata": {},
   "source": [
    "## Obtain the critical field and temperature\n",
    "\n",
    "Calculate $H_{c0}$ and $T_c$ from the fit results (with uncertainty)."
   ]
  },
  {
   "cell_type": "code",
   "execution_count": null,
   "metadata": {},
   "outputs": [],
   "source": []
  },
  {
   "cell_type": "markdown",
   "metadata": {},
   "source": [
    "## Fit the \"unlinearized\" data\n",
    "\n",
    "Use the LMFit `Model()` class to create a non-linear fit function in the form of equation (1).  Then use it to fit the unlinearized data of $H_c$ vs. $T$ directly.  In this version, the fit parameters should be the values of $H_{c0}$ vs. $T_c$.  \n",
    "\n",
    "An example of using the `Model()` class to fit an arbitrary function is given in this notebook: [Example of LMFit Model Custom Function](Example%20LMFit%20Model%20with%20Arbitrary%20Function.ipynb) (The notebook should be in your working subdirectory)."
   ]
  },
  {
   "cell_type": "code",
   "execution_count": null,
   "metadata": {},
   "outputs": [],
   "source": []
  },
  {
   "cell_type": "markdown",
   "metadata": {},
   "source": [
    "## Make another big, clear plot\n",
    "\n",
    "Make a nice plot for this type of fit, similar to what you did above, showing the fit line intersecting both axes."
   ]
  },
  {
   "cell_type": "code",
   "execution_count": null,
   "metadata": {},
   "outputs": [],
   "source": []
  },
  {
   "cell_type": "markdown",
   "metadata": {},
   "source": [
    "## Compare the fit results\n",
    "\n",
    "Compare the fit results from both procedures to each other: do they agree within their uncertainty?  Do the fit results agree with handbook or text values?  Print the all in a single table for easy comparison."
   ]
  },
  {
   "cell_type": "code",
   "execution_count": null,
   "metadata": {},
   "outputs": [],
   "source": [
    "# Example table\n",
    "#\n",
    "# print('Comparison of fit results:')\n",
    "# print('   Tc (K)   |   Hc0 (G)   ')\n",
    "# print('------------|-------------')\n",
    "# print('{:.2uP} | {:.2uP}     (from linearized data)'.format(uTc_1,uHc0_1))\n",
    "# print('{:.1uP} | {:.2uP}     (from nonlinear fit)'.format(uTc_2,uHc0_2))\n",
    "# print('{:8.2f}    | {:.1f}         (handbook)'.format(4.15,410.0))"
   ]
  }
 ],
 "metadata": {
  "kernelspec": {
   "display_name": "base",
   "language": "python",
   "name": "python3"
  },
  "language_info": {
   "codemirror_mode": {
    "name": "ipython",
    "version": 3
   },
   "file_extension": ".py",
   "mimetype": "text/x-python",
   "name": "python",
   "nbconvert_exporter": "python",
   "pygments_lexer": "ipython3",
   "version": "3.9.7"
  },
  "vscode": {
   "interpreter": {
    "hash": "81d803375a80ef438aed46dfb61bfcb23632280389862399a519a5b5dac99448"
   }
  }
 },
 "nbformat": 4,
 "nbformat_minor": 2
}

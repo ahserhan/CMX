{
 "cells": [
  {
   "cell_type": "code",
   "execution_count": 18,
   "metadata": {},
   "outputs": [],
   "source": [
    "import numpy as np\n",
    "import scipy.constants as const\n",
    "import uncertainties as unc\n",
    "import matplotlib.pyplot as plt\n",
    "import pandas as pd\n",
    "from lmfit.models import LinearModel\n",
    "%matplotlib inline"
   ]
  },
  {
   "cell_type": "code",
   "execution_count": 3,
   "metadata": {},
   "outputs": [
    {
     "data": {
      "text/html": [
       "<div>\n",
       "<style scoped>\n",
       "    .dataframe tbody tr th:only-of-type {\n",
       "        vertical-align: middle;\n",
       "    }\n",
       "\n",
       "    .dataframe tbody tr th {\n",
       "        vertical-align: top;\n",
       "    }\n",
       "\n",
       "    .dataframe thead th {\n",
       "        text-align: right;\n",
       "    }\n",
       "</style>\n",
       "<table border=\"1\" class=\"dataframe\">\n",
       "  <thead>\n",
       "    <tr style=\"text-align: right;\">\n",
       "      <th></th>\n",
       "      <th>voltage</th>\n",
       "      <th>diameter</th>\n",
       "      <th>Unnamed: 2</th>\n",
       "      <th>Unnamed: 3</th>\n",
       "      <th>Unnamed: 4</th>\n",
       "      <th>Unnamed: 5</th>\n",
       "      <th>Unnamed: 6</th>\n",
       "      <th>Unnamed: 7</th>\n",
       "      <th>Unnamed: 8</th>\n",
       "      <th>Unnamed: 9</th>\n",
       "      <th>Unnamed: 10</th>\n",
       "      <th>Unnamed: 11</th>\n",
       "      <th>Unnamed: 12</th>\n",
       "    </tr>\n",
       "  </thead>\n",
       "  <tbody>\n",
       "    <tr>\n",
       "      <th>0</th>\n",
       "      <td>3.986</td>\n",
       "      <td>1.57220</td>\n",
       "      <td>NaN</td>\n",
       "      <td>NaN</td>\n",
       "      <td>NaN</td>\n",
       "      <td>NaN</td>\n",
       "      <td>NaN</td>\n",
       "      <td>NaN</td>\n",
       "      <td>NaN</td>\n",
       "      <td>NaN</td>\n",
       "      <td>NaN</td>\n",
       "      <td>NaN</td>\n",
       "      <td>NaN</td>\n",
       "    </tr>\n",
       "    <tr>\n",
       "      <th>1</th>\n",
       "      <td>4.492</td>\n",
       "      <td>1.40400</td>\n",
       "      <td>NaN</td>\n",
       "      <td>NaN</td>\n",
       "      <td>NaN</td>\n",
       "      <td>NaN</td>\n",
       "      <td>NaN</td>\n",
       "      <td>NaN</td>\n",
       "      <td>NaN</td>\n",
       "      <td>NaN</td>\n",
       "      <td>NaN</td>\n",
       "      <td>NaN</td>\n",
       "      <td>NaN</td>\n",
       "    </tr>\n",
       "    <tr>\n",
       "      <th>2</th>\n",
       "      <td>4.969</td>\n",
       "      <td>1.35250</td>\n",
       "      <td>NaN</td>\n",
       "      <td>NaN</td>\n",
       "      <td>NaN</td>\n",
       "      <td>NaN</td>\n",
       "      <td>NaN</td>\n",
       "      <td>NaN</td>\n",
       "      <td>NaN</td>\n",
       "      <td>NaN</td>\n",
       "      <td>NaN</td>\n",
       "      <td>NaN</td>\n",
       "      <td>NaN</td>\n",
       "    </tr>\n",
       "    <tr>\n",
       "      <th>3</th>\n",
       "      <td>5.485</td>\n",
       "      <td>1.25320</td>\n",
       "      <td>NaN</td>\n",
       "      <td>NaN</td>\n",
       "      <td>NaN</td>\n",
       "      <td>NaN</td>\n",
       "      <td>NaN</td>\n",
       "      <td>NaN</td>\n",
       "      <td>NaN</td>\n",
       "      <td>NaN</td>\n",
       "      <td>NaN</td>\n",
       "      <td>NaN</td>\n",
       "      <td>NaN</td>\n",
       "    </tr>\n",
       "    <tr>\n",
       "      <th>4</th>\n",
       "      <td>5.996</td>\n",
       "      <td>1.17270</td>\n",
       "      <td>NaN</td>\n",
       "      <td>NaN</td>\n",
       "      <td>NaN</td>\n",
       "      <td>NaN</td>\n",
       "      <td>NaN</td>\n",
       "      <td>NaN</td>\n",
       "      <td>NaN</td>\n",
       "      <td>NaN</td>\n",
       "      <td>NaN</td>\n",
       "      <td>NaN</td>\n",
       "      <td>NaN</td>\n",
       "    </tr>\n",
       "    <tr>\n",
       "      <th>5</th>\n",
       "      <td>6.485</td>\n",
       "      <td>1.16930</td>\n",
       "      <td>NaN</td>\n",
       "      <td>NaN</td>\n",
       "      <td>NaN</td>\n",
       "      <td>NaN</td>\n",
       "      <td>NaN</td>\n",
       "      <td>NaN</td>\n",
       "      <td>NaN</td>\n",
       "      <td>NaN</td>\n",
       "      <td>NaN</td>\n",
       "      <td>NaN</td>\n",
       "      <td>NaN</td>\n",
       "    </tr>\n",
       "    <tr>\n",
       "      <th>6</th>\n",
       "      <td>7.037</td>\n",
       "      <td>1.14126</td>\n",
       "      <td>NaN</td>\n",
       "      <td>NaN</td>\n",
       "      <td>NaN</td>\n",
       "      <td>NaN</td>\n",
       "      <td>NaN</td>\n",
       "      <td>NaN</td>\n",
       "      <td>NaN</td>\n",
       "      <td>NaN</td>\n",
       "      <td>NaN</td>\n",
       "      <td>NaN</td>\n",
       "      <td>NaN</td>\n",
       "    </tr>\n",
       "    <tr>\n",
       "      <th>7</th>\n",
       "      <td>7.458</td>\n",
       "      <td>1.13290</td>\n",
       "      <td>NaN</td>\n",
       "      <td>NaN</td>\n",
       "      <td>NaN</td>\n",
       "      <td>NaN</td>\n",
       "      <td>NaN</td>\n",
       "      <td>NaN</td>\n",
       "      <td>NaN</td>\n",
       "      <td>NaN</td>\n",
       "      <td>NaN</td>\n",
       "      <td>NaN</td>\n",
       "      <td>NaN</td>\n",
       "    </tr>\n",
       "    <tr>\n",
       "      <th>8</th>\n",
       "      <td>8.073</td>\n",
       "      <td>1.04687</td>\n",
       "      <td>NaN</td>\n",
       "      <td>NaN</td>\n",
       "      <td>NaN</td>\n",
       "      <td>NaN</td>\n",
       "      <td>NaN</td>\n",
       "      <td>NaN</td>\n",
       "      <td>NaN</td>\n",
       "      <td>NaN</td>\n",
       "      <td>NaN</td>\n",
       "      <td>NaN</td>\n",
       "      <td>NaN</td>\n",
       "    </tr>\n",
       "    <tr>\n",
       "      <th>9</th>\n",
       "      <td>NaN</td>\n",
       "      <td>NaN</td>\n",
       "      <td>NaN</td>\n",
       "      <td>NaN</td>\n",
       "      <td>NaN</td>\n",
       "      <td>NaN</td>\n",
       "      <td>NaN</td>\n",
       "      <td>NaN</td>\n",
       "      <td>NaN</td>\n",
       "      <td>NaN</td>\n",
       "      <td>NaN</td>\n",
       "      <td>NaN</td>\n",
       "      <td>NaN</td>\n",
       "    </tr>\n",
       "    <tr>\n",
       "      <th>10</th>\n",
       "      <td>NaN</td>\n",
       "      <td>NaN</td>\n",
       "      <td>NaN</td>\n",
       "      <td>NaN</td>\n",
       "      <td>NaN</td>\n",
       "      <td>NaN</td>\n",
       "      <td>NaN</td>\n",
       "      <td>NaN</td>\n",
       "      <td>NaN</td>\n",
       "      <td>NaN</td>\n",
       "      <td>NaN</td>\n",
       "      <td>NaN</td>\n",
       "      <td>NaN</td>\n",
       "    </tr>\n",
       "    <tr>\n",
       "      <th>11</th>\n",
       "      <td>NaN</td>\n",
       "      <td>NaN</td>\n",
       "      <td>NaN</td>\n",
       "      <td>NaN</td>\n",
       "      <td>NaN</td>\n",
       "      <td>NaN</td>\n",
       "      <td>NaN</td>\n",
       "      <td>NaN</td>\n",
       "      <td>NaN</td>\n",
       "      <td>NaN</td>\n",
       "      <td>NaN</td>\n",
       "      <td>NaN</td>\n",
       "      <td>NaN</td>\n",
       "    </tr>\n",
       "    <tr>\n",
       "      <th>12</th>\n",
       "      <td>NaN</td>\n",
       "      <td>NaN</td>\n",
       "      <td>NaN</td>\n",
       "      <td>NaN</td>\n",
       "      <td>NaN</td>\n",
       "      <td>NaN</td>\n",
       "      <td>NaN</td>\n",
       "      <td>NaN</td>\n",
       "      <td>NaN</td>\n",
       "      <td>NaN</td>\n",
       "      <td>NaN</td>\n",
       "      <td>NaN</td>\n",
       "      <td>NaN</td>\n",
       "    </tr>\n",
       "    <tr>\n",
       "      <th>13</th>\n",
       "      <td>NaN</td>\n",
       "      <td>NaN</td>\n",
       "      <td>NaN</td>\n",
       "      <td>NaN</td>\n",
       "      <td>NaN</td>\n",
       "      <td>NaN</td>\n",
       "      <td>NaN</td>\n",
       "      <td>NaN</td>\n",
       "      <td>NaN</td>\n",
       "      <td>NaN</td>\n",
       "      <td>NaN</td>\n",
       "      <td>NaN</td>\n",
       "      <td>NaN</td>\n",
       "    </tr>\n",
       "    <tr>\n",
       "      <th>14</th>\n",
       "      <td>NaN</td>\n",
       "      <td>NaN</td>\n",
       "      <td>NaN</td>\n",
       "      <td>NaN</td>\n",
       "      <td>NaN</td>\n",
       "      <td>NaN</td>\n",
       "      <td>NaN</td>\n",
       "      <td>NaN</td>\n",
       "      <td>NaN</td>\n",
       "      <td>NaN</td>\n",
       "      <td>NaN</td>\n",
       "      <td>NaN</td>\n",
       "      <td>NaN</td>\n",
       "    </tr>\n",
       "    <tr>\n",
       "      <th>15</th>\n",
       "      <td>NaN</td>\n",
       "      <td>NaN</td>\n",
       "      <td>NaN</td>\n",
       "      <td>NaN</td>\n",
       "      <td>NaN</td>\n",
       "      <td>NaN</td>\n",
       "      <td>NaN</td>\n",
       "      <td>NaN</td>\n",
       "      <td>NaN</td>\n",
       "      <td>NaN</td>\n",
       "      <td>NaN</td>\n",
       "      <td>NaN</td>\n",
       "      <td>NaN</td>\n",
       "    </tr>\n",
       "    <tr>\n",
       "      <th>16</th>\n",
       "      <td>NaN</td>\n",
       "      <td>NaN</td>\n",
       "      <td>NaN</td>\n",
       "      <td>NaN</td>\n",
       "      <td>NaN</td>\n",
       "      <td>NaN</td>\n",
       "      <td>NaN</td>\n",
       "      <td>NaN</td>\n",
       "      <td>NaN</td>\n",
       "      <td>NaN</td>\n",
       "      <td>NaN</td>\n",
       "      <td>NaN</td>\n",
       "      <td>NaN</td>\n",
       "    </tr>\n",
       "    <tr>\n",
       "      <th>17</th>\n",
       "      <td>NaN</td>\n",
       "      <td>NaN</td>\n",
       "      <td>NaN</td>\n",
       "      <td>NaN</td>\n",
       "      <td>NaN</td>\n",
       "      <td>NaN</td>\n",
       "      <td>NaN</td>\n",
       "      <td>NaN</td>\n",
       "      <td>NaN</td>\n",
       "      <td>NaN</td>\n",
       "      <td>NaN</td>\n",
       "      <td>NaN</td>\n",
       "      <td>NaN</td>\n",
       "    </tr>\n",
       "    <tr>\n",
       "      <th>18</th>\n",
       "      <td>NaN</td>\n",
       "      <td>NaN</td>\n",
       "      <td>NaN</td>\n",
       "      <td>NaN</td>\n",
       "      <td>NaN</td>\n",
       "      <td>NaN</td>\n",
       "      <td>NaN</td>\n",
       "      <td>NaN</td>\n",
       "      <td>NaN</td>\n",
       "      <td>NaN</td>\n",
       "      <td>NaN</td>\n",
       "      <td>NaN</td>\n",
       "      <td>NaN</td>\n",
       "    </tr>\n",
       "  </tbody>\n",
       "</table>\n",
       "</div>"
      ],
      "text/plain": [
       "    voltage  diameter  Unnamed: 2  Unnamed: 3  Unnamed: 4  Unnamed: 5  \\\n",
       "0     3.986   1.57220         NaN         NaN         NaN         NaN   \n",
       "1     4.492   1.40400         NaN         NaN         NaN         NaN   \n",
       "2     4.969   1.35250         NaN         NaN         NaN         NaN   \n",
       "3     5.485   1.25320         NaN         NaN         NaN         NaN   \n",
       "4     5.996   1.17270         NaN         NaN         NaN         NaN   \n",
       "5     6.485   1.16930         NaN         NaN         NaN         NaN   \n",
       "6     7.037   1.14126         NaN         NaN         NaN         NaN   \n",
       "7     7.458   1.13290         NaN         NaN         NaN         NaN   \n",
       "8     8.073   1.04687         NaN         NaN         NaN         NaN   \n",
       "9       NaN       NaN         NaN         NaN         NaN         NaN   \n",
       "10      NaN       NaN         NaN         NaN         NaN         NaN   \n",
       "11      NaN       NaN         NaN         NaN         NaN         NaN   \n",
       "12      NaN       NaN         NaN         NaN         NaN         NaN   \n",
       "13      NaN       NaN         NaN         NaN         NaN         NaN   \n",
       "14      NaN       NaN         NaN         NaN         NaN         NaN   \n",
       "15      NaN       NaN         NaN         NaN         NaN         NaN   \n",
       "16      NaN       NaN         NaN         NaN         NaN         NaN   \n",
       "17      NaN       NaN         NaN         NaN         NaN         NaN   \n",
       "18      NaN       NaN         NaN         NaN         NaN         NaN   \n",
       "\n",
       "    Unnamed: 6  Unnamed: 7  Unnamed: 8  Unnamed: 9  Unnamed: 10  Unnamed: 11  \\\n",
       "0          NaN         NaN         NaN         NaN          NaN          NaN   \n",
       "1          NaN         NaN         NaN         NaN          NaN          NaN   \n",
       "2          NaN         NaN         NaN         NaN          NaN          NaN   \n",
       "3          NaN         NaN         NaN         NaN          NaN          NaN   \n",
       "4          NaN         NaN         NaN         NaN          NaN          NaN   \n",
       "5          NaN         NaN         NaN         NaN          NaN          NaN   \n",
       "6          NaN         NaN         NaN         NaN          NaN          NaN   \n",
       "7          NaN         NaN         NaN         NaN          NaN          NaN   \n",
       "8          NaN         NaN         NaN         NaN          NaN          NaN   \n",
       "9          NaN         NaN         NaN         NaN          NaN          NaN   \n",
       "10         NaN         NaN         NaN         NaN          NaN          NaN   \n",
       "11         NaN         NaN         NaN         NaN          NaN          NaN   \n",
       "12         NaN         NaN         NaN         NaN          NaN          NaN   \n",
       "13         NaN         NaN         NaN         NaN          NaN          NaN   \n",
       "14         NaN         NaN         NaN         NaN          NaN          NaN   \n",
       "15         NaN         NaN         NaN         NaN          NaN          NaN   \n",
       "16         NaN         NaN         NaN         NaN          NaN          NaN   \n",
       "17         NaN         NaN         NaN         NaN          NaN          NaN   \n",
       "18         NaN         NaN         NaN         NaN          NaN          NaN   \n",
       "\n",
       "    Unnamed: 12  \n",
       "0           NaN  \n",
       "1           NaN  \n",
       "2           NaN  \n",
       "3           NaN  \n",
       "4           NaN  \n",
       "5           NaN  \n",
       "6           NaN  \n",
       "7           NaN  \n",
       "8           NaN  \n",
       "9           NaN  \n",
       "10          NaN  \n",
       "11          NaN  \n",
       "12          NaN  \n",
       "13          NaN  \n",
       "14          NaN  \n",
       "15          NaN  \n",
       "16          NaN  \n",
       "17          NaN  \n",
       "18          NaN  "
      ]
     },
     "execution_count": 3,
     "metadata": {},
     "output_type": "execute_result"
    }
   ],
   "source": [
    "gr_data = pd.read_csv('graphite.csv')\n",
    "gr_data"
   ]
  },
  {
   "cell_type": "code",
   "execution_count": 4,
   "metadata": {},
   "outputs": [
    {
     "data": {
      "text/plain": [
       "<matplotlib.legend.Legend at 0x1fe7390db80>"
      ]
     },
     "execution_count": 4,
     "metadata": {},
     "output_type": "execute_result"
    },
    {
     "data": {
      "image/png": "[encoded data removed]",
      "text/plain": [
       "<Figure size 648x468 with 1 Axes>"
      ]
     },
     "metadata": {
      "needs_background": "light"
     },
     "output_type": "display_data"
    }
   ],
   "source": [
    "plt.figure(figsize=(9,6.5))\n",
    "plt.grid()\n",
    "plt.title('Graphite Electron Diffraction Data')\n",
    "plt.ylabel(r'Ring diameter $D$ (mm)')\n",
    "plt.xlabel(r'Acceleration voltage $V$ (kV)')\n",
    "plt.plot(gr_data['voltage'],gr_data['diameter'],'ob',label='{10} Reflections')\n",
    "plt.legend()"
   ]
  },
  {
   "attachments": {},
   "cell_type": "markdown",
   "metadata": {},
   "source": [
    "For Alumunum:"
   ]
  },
  {
   "attachments": {},
   "cell_type": "markdown",
   "metadata": {},
   "source": [
    "Part 1: Look at the data set:"
   ]
  },
  {
   "cell_type": "code",
   "execution_count": 5,
   "metadata": {},
   "outputs": [
    {
     "data": {
      "text/html": [
       "<div>\n",
       "<style scoped>\n",
       "    .dataframe tbody tr th:only-of-type {\n",
       "        vertical-align: middle;\n",
       "    }\n",
       "\n",
       "    .dataframe tbody tr th {\n",
       "        vertical-align: top;\n",
       "    }\n",
       "\n",
       "    .dataframe thead th {\n",
       "        text-align: right;\n",
       "    }\n",
       "</style>\n",
       "<table border=\"1\" class=\"dataframe\">\n",
       "  <thead>\n",
       "    <tr style=\"text-align: right;\">\n",
       "      <th></th>\n",
       "      <th>voltage</th>\n",
       "      <th>diameter1</th>\n",
       "      <th>diameter2</th>\n",
       "      <th>diameter3</th>\n",
       "      <th>diameter4</th>\n",
       "      <th>diameter5</th>\n",
       "    </tr>\n",
       "  </thead>\n",
       "  <tbody>\n",
       "    <tr>\n",
       "      <th>0</th>\n",
       "      <td>4.503</td>\n",
       "      <td>2.666</td>\n",
       "      <td>3.047</td>\n",
       "      <td>4.398</td>\n",
       "      <td>5.236</td>\n",
       "      <td>7.039</td>\n",
       "    </tr>\n",
       "    <tr>\n",
       "      <th>1</th>\n",
       "      <td>4.964</td>\n",
       "      <td>2.512</td>\n",
       "      <td>2.935</td>\n",
       "      <td>4.140</td>\n",
       "      <td>4.924</td>\n",
       "      <td>6.597</td>\n",
       "    </tr>\n",
       "    <tr>\n",
       "      <th>2</th>\n",
       "      <td>5.954</td>\n",
       "      <td>2.249</td>\n",
       "      <td>2.648</td>\n",
       "      <td>3.737</td>\n",
       "      <td>4.440</td>\n",
       "      <td>5.908</td>\n",
       "    </tr>\n",
       "    <tr>\n",
       "      <th>3</th>\n",
       "      <td>6.515</td>\n",
       "      <td>2.150</td>\n",
       "      <td>2.552</td>\n",
       "      <td>3.565</td>\n",
       "      <td>4.220</td>\n",
       "      <td>5.640</td>\n",
       "    </tr>\n",
       "    <tr>\n",
       "      <th>4</th>\n",
       "      <td>7.054</td>\n",
       "      <td>2.079</td>\n",
       "      <td>2.430</td>\n",
       "      <td>3.440</td>\n",
       "      <td>3.893</td>\n",
       "      <td>5.467</td>\n",
       "    </tr>\n",
       "    <tr>\n",
       "      <th>5</th>\n",
       "      <td>7.539</td>\n",
       "      <td>1.998</td>\n",
       "      <td>2.356</td>\n",
       "      <td>3.300</td>\n",
       "      <td>3.909</td>\n",
       "      <td>5.225</td>\n",
       "    </tr>\n",
       "    <tr>\n",
       "      <th>6</th>\n",
       "      <td>8.085</td>\n",
       "      <td>1.951</td>\n",
       "      <td>2.294</td>\n",
       "      <td>3.198</td>\n",
       "      <td>3.802</td>\n",
       "      <td>5.058</td>\n",
       "    </tr>\n",
       "  </tbody>\n",
       "</table>\n",
       "</div>"
      ],
      "text/plain": [
       "   voltage  diameter1  diameter2  diameter3  diameter4  diameter5\n",
       "0    4.503      2.666      3.047      4.398      5.236      7.039\n",
       "1    4.964      2.512      2.935      4.140      4.924      6.597\n",
       "2    5.954      2.249      2.648      3.737      4.440      5.908\n",
       "3    6.515      2.150      2.552      3.565      4.220      5.640\n",
       "4    7.054      2.079      2.430      3.440      3.893      5.467\n",
       "5    7.539      1.998      2.356      3.300      3.909      5.225\n",
       "6    8.085      1.951      2.294      3.198      3.802      5.058"
      ]
     },
     "execution_count": 5,
     "metadata": {},
     "output_type": "execute_result"
    }
   ],
   "source": [
    "al_data = pd.read_csv('aluminum.csv')\n",
    "al_data"
   ]
  },
  {
   "attachments": {},
   "cell_type": "markdown",
   "metadata": {},
   "source": [
    "plot one ring"
   ]
  },
  {
   "cell_type": "code",
   "execution_count": 6,
   "metadata": {},
   "outputs": [
    {
     "data": {
      "text/plain": [
       "<matplotlib.legend.Legend at 0x1fe7424a2b0>"
      ]
     },
     "execution_count": 6,
     "metadata": {},
     "output_type": "execute_result"
    },
    {
     "data": {
      "image/png": "[encoded data removed]",
      "text/plain": [
       "<Figure size 648x468 with 1 Axes>"
      ]
     },
     "metadata": {
      "needs_background": "light"
     },
     "output_type": "display_data"
    }
   ],
   "source": [
    "plt.figure(figsize=(9,6.5))\n",
    "plt.grid()\n",
    "plt.title('Aluminum Electron Diffraction Data')\n",
    "plt.ylabel(r'Ring diameter $D$ (mm)')\n",
    "plt.xlabel(r'Acceleration voltage $V$ (kV)')\n",
    "plt.plot(al_data['voltage'],al_data['diameter1'],'ob',label='{???} Reflections')\n",
    "plt.legend()"
   ]
  },
  {
   "attachments": {},
   "cell_type": "markdown",
   "metadata": {},
   "source": [
    "plot another ring"
   ]
  },
  {
   "cell_type": "code",
   "execution_count": 26,
   "metadata": {},
   "outputs": [
    {
     "data": {
      "text/plain": [
       "<matplotlib.legend.Legend at 0x1fe77d48340>"
      ]
     },
     "execution_count": 26,
     "metadata": {},
     "output_type": "execute_result"
    },
    {
     "data": {
      "image/png": "[encoded data removed]",
      "text/plain": [
       "<Figure size 648x468 with 1 Axes>"
      ]
     },
     "metadata": {
      "needs_background": "light"
     },
     "output_type": "display_data"
    }
   ],
   "source": [
    "plt.figure(figsize=(9,6.5))\n",
    "plt.grid()\n",
    "plt.title('Aluminum Electron Diffraction Data')\n",
    "plt.ylabel(r'Ring diameter $D$ (mm)')\n",
    "plt.xlabel(r'Acceleration voltage $V$ (kV)')\n",
    "plt.plot(al_data['voltage'],al_data['diameter5'],'ob',label='{???} Reflections')\n",
    "plt.legend()"
   ]
  },
  {
   "attachments": {},
   "cell_type": "markdown",
   "metadata": {},
   "source": [
    "Part 2: Convert D to $\\sin \\theta$"
   ]
  },
  {
   "attachments": {},
   "cell_type": "markdown",
   "metadata": {},
   "source": [
    "extract all the five rings out in separate arrarys annd convert them from diameters to $\\sin \\theta$:"
   ]
  },
  {
   "cell_type": "code",
   "execution_count": 7,
   "metadata": {},
   "outputs": [],
   "source": [
    "l = 18.06\n",
    "ring1 = np.sin(np.arctan(np.copy(al_data['diameter1'])/(2*l))/2)\n",
    "ring2 = np.sin(np.arctan(np.copy(al_data['diameter2'])/(2*l))/2)\n",
    "ring3 = np.sin(np.arctan(np.copy(al_data['diameter3'])/(2*l))/2)\n",
    "ring4 = np.sin(np.arctan(np.copy(al_data['diameter4'])/(2*l))/2)\n",
    "ring5 = np.sin(np.arctan(np.copy(al_data['diameter5'])/(2*l))/2)\n"
   ]
  },
  {
   "attachments": {},
   "cell_type": "markdown",
   "metadata": {},
   "source": [
    "Each ring_i above corresponds to a specific h,k,l that runs from the smallest voltage to the largest voltage (7 in total) as shown below:"
   ]
  },
  {
   "cell_type": "code",
   "execution_count": 8,
   "metadata": {},
   "outputs": [
    {
     "name": "stdout",
     "output_type": "stream",
     "text": [
      "[0.03682963 0.03471011 0.03108719 0.02972245 0.02874339 0.02762613\n",
      " 0.02697771]\n",
      "[0.04206681 0.04052829 0.03658197 0.03526077 0.03358095 0.03256162\n",
      " 0.03170735]\n",
      "[0.06054513 0.05702901 0.05152412 0.04917024 0.04745802 0.04553884\n",
      " 0.04413962]\n",
      "[0.07191709 0.06769229 0.06111689 0.05811998 0.0536568  0.05387542\n",
      " 0.052413  ]\n",
      "[0.0960845  0.09020226 0.08097634 0.0773703  0.07503761 0.07176833\n",
      " 0.06950817]\n"
     ]
    }
   ],
   "source": [
    "print(ring1)\n",
    "print(ring2)\n",
    "print(ring3)\n",
    "print(ring4)\n",
    "print(ring5)"
   ]
  },
  {
   "attachments": {},
   "cell_type": "markdown",
   "metadata": {},
   "source": [
    "Part 3: Calculate Ring Spacing for Different Structures"
   ]
  },
  {
   "attachments": {},
   "cell_type": "markdown",
   "metadata": {},
   "source": [
    "(Below is the hand-calculated h,k,l values for sc, bcc, and fcc crystal structures)"
   ]
  },
  {
   "cell_type": "code",
   "execution_count": 14,
   "metadata": {},
   "outputs": [],
   "source": [
    "x_sc = np.array([1,np.sqrt(2),np.sqrt(3),2,np.sqrt(5)])\n",
    "x_bcc = np.array([np.sqrt(2),2,np.sqrt(6),np.sqrt(8),np.sqrt(12)])\n",
    "x_fcc = np.array([np.sqrt(3),2,np.sqrt(8),np.sqrt(11),np.sqrt(16)])"
   ]
  },
  {
   "attachments": {},
   "cell_type": "markdown",
   "metadata": {},
   "source": [
    "For the 6th voltage, which is 7.539 kV, we have voltage6 as the arrary of all the five ring's diameters as below"
   ]
  },
  {
   "cell_type": "code",
   "execution_count": 15,
   "metadata": {},
   "outputs": [],
   "source": [
    "voltage6 = np.array([ring1[5],ring2[5],ring3[5],ring4[5],ring5[5]])"
   ]
  },
  {
   "attachments": {},
   "cell_type": "markdown",
   "metadata": {},
   "source": [
    "Now we can plot these 5 ring diameters as a function of the sqrt(h^2+k^2+l^2) as we have calculated above"
   ]
  },
  {
   "cell_type": "code",
   "execution_count": 16,
   "metadata": {},
   "outputs": [
    {
     "data": {
      "text/plain": [
       "<matplotlib.legend.Legend at 0x1fe7586d190>"
      ]
     },
     "execution_count": 16,
     "metadata": {},
     "output_type": "execute_result"
    },
    {
     "data": {
      "image/png": "[encoded data removed]",
      "text/plain": [
       "<Figure size 648x468 with 1 Axes>"
      ]
     },
     "metadata": {
      "needs_background": "light"
     },
     "output_type": "display_data"
    }
   ],
   "source": [
    "plt.figure(figsize=(9,6.5))\n",
    "plt.grid()\n",
    "plt.title('Aluminum sc test for 7.539 kV')\n",
    "plt.ylabel(r'Ring diameter $D$ (mm)')\n",
    "plt.xlabel(r'$\\sqrt{h^2+k^2+l^2}$')\n",
    "plt.plot(x_sc,voltage6,'or',label='sc structure')\n",
    "plt.plot(x_bcc,voltage6,'ob',label='bcc structure')\n",
    "plt.plot(x_fcc,voltage6,'oy',label='fcc structure')\n",
    "plt.legend()"
   ]
  },
  {
   "attachments": {},
   "cell_type": "markdown",
   "metadata": {},
   "source": [
    "Part 4: Fit to the best structure"
   ]
  },
  {
   "attachments": {},
   "cell_type": "markdown",
   "metadata": {},
   "source": [
    "Then we can fit a line for each of theses arrays so that we can tell which one is the aluminum structure (although it is already clear at this point it is fcc)"
   ]
  },
  {
   "attachments": {},
   "cell_type": "markdown",
   "metadata": {},
   "source": [
    "line fit for sc:"
   ]
  },
  {
   "cell_type": "code",
   "execution_count": 23,
   "metadata": {},
   "outputs": [
    {
     "data": {
      "image/png": "[encoded data removed]",
      "text/plain": [
       "<Figure size 432x432 with 2 Axes>"
      ]
     },
     "metadata": {
      "needs_background": "light"
     },
     "output_type": "display_data"
    }
   ],
   "source": [
    "line = LinearModel()\n",
    "param_guess = line.guess(voltage6, x = x_sc)\n",
    "line_fit = line.fit(voltage6, param_guess, x = x_sc)\n",
    "line_fit.plot();"
   ]
  },
  {
   "attachments": {},
   "cell_type": "markdown",
   "metadata": {},
   "source": [
    "line fit for bcc:"
   ]
  },
  {
   "cell_type": "code",
   "execution_count": 24,
   "metadata": {},
   "outputs": [
    {
     "data": {
      "image/png": "[encoded data removed]",
      "text/plain": [
       "<Figure size 432x432 with 2 Axes>"
      ]
     },
     "metadata": {
      "needs_background": "light"
     },
     "output_type": "display_data"
    }
   ],
   "source": [
    "line = LinearModel()\n",
    "param_guess = line.guess(voltage6, x = x_bcc)\n",
    "line_fit = line.fit(voltage6, param_guess, x = x_bcc)\n",
    "line_fit.plot();"
   ]
  },
  {
   "attachments": {},
   "cell_type": "markdown",
   "metadata": {},
   "source": [
    "line fit for bcc:"
   ]
  },
  {
   "cell_type": "code",
   "execution_count": 25,
   "metadata": {},
   "outputs": [
    {
     "name": "stdout",
     "output_type": "stream",
     "text": [
      "[[Model]]\n",
      "    Model(linear)\n",
      "[[Fit Statistics]]\n",
      "    # fitting method   = leastsq\n",
      "    # function evals   = 7\n",
      "    # data points      = 5\n",
      "    # variables        = 2\n",
      "    chi-square         = 1.7412e-05\n",
      "    reduced chi-square = 5.8040e-06\n",
      "    Akaike info crit   = -58.8389724\n",
      "    Bayesian info crit = -59.6200966\n",
      "    R-squared          = 0.98600392\n",
      "[[Variables]]\n",
      "    slope:      0.01876053 +/- 0.00129047 (6.88%) (init = 0.02217262)\n",
      "    intercept: -0.00579429 +/- 0.00374014 (64.55%) (init = -0.007633031)\n",
      "[[Correlations]] (unreported correlations are < 0.100)\n",
      "    C(slope, intercept) = -0.958\n",
      "\n",
      "Slope =  0.018760528728453116 +/- 0.0012904714789866148\n"
     ]
    },
    {
     "data": {
      "image/png": "[encoded data removed]",
      "text/plain": [
       "<Figure size 432x432 with 2 Axes>"
      ]
     },
     "metadata": {
      "needs_background": "light"
     },
     "output_type": "display_data"
    }
   ],
   "source": [
    "line = LinearModel()\n",
    "param_guess = line.guess(voltage6, x = x_bcc)\n",
    "line_fit = line.fit(voltage6, param_guess, x = x_fcc)\n",
    "print(line_fit.fit_report())\n",
    "print('\\nSlope = ',line_fit.params['slope'].value,'+/-',line_fit.params['slope'].stderr)\n",
    "line_fit.plot();"
   ]
  },
  {
   "attachments": {},
   "cell_type": "markdown",
   "metadata": {},
   "source": [
    "we can see that fcc is the most linear fit so we can from here calculate the lattice constant, which is given by $a=\\lambda / (2 s)$, where s is the slope of the line, $\\lambda = h/\\sqrt{2mE}$, and $E$ is the energy of the electron."
   ]
  },
  {
   "cell_type": "markdown",
   "metadata": {},
   "source": []
  },
  {
   "cell_type": "code",
   "execution_count": null,
   "metadata": {},
   "outputs": [],
   "source": []
  }
 ],
 "metadata": {
  "kernelspec": {
   "display_name": "Python 3.9.7 ('base')",
   "language": "python",
   "name": "python3"
  },
  "language_info": {
   "codemirror_mode": {
    "name": "ipython",
    "version": 3
   },
   "file_extension": ".py",
   "mimetype": "text/x-python",
   "name": "python",
   "nbconvert_exporter": "python",
   "pygments_lexer": "ipython3",
   "version": "3.9.7"
  },
  "orig_nbformat": 4,
  "vscode": {
   "interpreter": {
    "hash": "81d803375a80ef438aed46dfb61bfcb23632280389862399a519a5b5dac99448"
   }
  }
 },
 "nbformat": 4,
 "nbformat_minor": 2
}

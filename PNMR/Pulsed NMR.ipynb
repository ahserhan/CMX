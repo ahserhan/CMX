{
 "cells": [
  {
   "attachments": {},
   "cell_type": "markdown",
   "metadata": {},
   "source": [
    "# Pulsed NMR Individual Analysis"
   ]
  },
  {
   "cell_type": "code",
   "execution_count": 33,
   "metadata": {},
   "outputs": [],
   "source": [
    "# Run this cell with Shift-Enter, and wait until the asterisk changes to a number, i.e., [*] becomes [1]\n",
    "import numpy as np\n",
    "import scipy.constants as const\n",
    "# import uncertainties as unc\n",
    "import matplotlib as mpl\n",
    "import matplotlib.pyplot as plt\n",
    "import pandas as pd\n",
    "%matplotlib inline"
   ]
  },
  {
   "cell_type": "markdown",
   "metadata": {},
   "source": [
    "## Import data tables\n",
    "\n",
    "Display them so that you know they are correct."
   ]
  },
  {
   "cell_type": "code",
   "execution_count": 34,
   "metadata": {},
   "outputs": [
    {
     "data": {
      "text/html": [
       "<div>\n",
       "<style scoped>\n",
       "    .dataframe tbody tr th:only-of-type {\n",
       "        vertical-align: middle;\n",
       "    }\n",
       "\n",
       "    .dataframe tbody tr th {\n",
       "        vertical-align: top;\n",
       "    }\n",
       "\n",
       "    .dataframe thead th {\n",
       "        text-align: right;\n",
       "    }\n",
       "</style>\n",
       "<table border=\"1\" class=\"dataframe\">\n",
       "  <thead>\n",
       "    <tr style=\"text-align: right;\">\n",
       "      <th></th>\n",
       "      <th>delay</th>\n",
       "      <th>echo</th>\n",
       "    </tr>\n",
       "  </thead>\n",
       "  <tbody>\n",
       "    <tr>\n",
       "      <th>0</th>\n",
       "      <td>6</td>\n",
       "      <td>4.40</td>\n",
       "    </tr>\n",
       "    <tr>\n",
       "      <th>1</th>\n",
       "      <td>9</td>\n",
       "      <td>4.24</td>\n",
       "    </tr>\n",
       "    <tr>\n",
       "      <th>2</th>\n",
       "      <td>11</td>\n",
       "      <td>4.14</td>\n",
       "    </tr>\n",
       "    <tr>\n",
       "      <th>3</th>\n",
       "      <td>14</td>\n",
       "      <td>3.74</td>\n",
       "    </tr>\n",
       "    <tr>\n",
       "      <th>4</th>\n",
       "      <td>17</td>\n",
       "      <td>3.36</td>\n",
       "    </tr>\n",
       "    <tr>\n",
       "      <th>5</th>\n",
       "      <td>20</td>\n",
       "      <td>2.78</td>\n",
       "    </tr>\n",
       "    <tr>\n",
       "      <th>6</th>\n",
       "      <td>23</td>\n",
       "      <td>2.20</td>\n",
       "    </tr>\n",
       "    <tr>\n",
       "      <th>7</th>\n",
       "      <td>26</td>\n",
       "      <td>1.99</td>\n",
       "    </tr>\n",
       "    <tr>\n",
       "      <th>8</th>\n",
       "      <td>29</td>\n",
       "      <td>1.55</td>\n",
       "    </tr>\n",
       "    <tr>\n",
       "      <th>9</th>\n",
       "      <td>32</td>\n",
       "      <td>1.11</td>\n",
       "    </tr>\n",
       "    <tr>\n",
       "      <th>10</th>\n",
       "      <td>35</td>\n",
       "      <td>0.61</td>\n",
       "    </tr>\n",
       "    <tr>\n",
       "      <th>11</th>\n",
       "      <td>38</td>\n",
       "      <td>0.29</td>\n",
       "    </tr>\n",
       "  </tbody>\n",
       "</table>\n",
       "</div>"
      ],
      "text/plain": [
       "    delay  echo\n",
       "0       6  4.40\n",
       "1       9  4.24\n",
       "2      11  4.14\n",
       "3      14  3.74\n",
       "4      17  3.36\n",
       "5      20  2.78\n",
       "6      23  2.20\n",
       "7      26  1.99\n",
       "8      29  1.55\n",
       "9      32  1.11\n",
       "10     35  0.61\n",
       "11     38  0.29"
      ]
     },
     "execution_count": 34,
     "metadata": {},
     "output_type": "execute_result"
    }
   ],
   "source": [
    "# Read in the data to a Pandas dataframe and print a table.\n",
    "echo_data = pd.read_csv('echo.csv')\n",
    "echo_data"
   ]
  },
  {
   "cell_type": "markdown",
   "metadata": {},
   "source": [
    "## Experiment 3: diffusion study\n",
    "\n",
    "### Massage the collected data\n",
    "\n",
    "Rescale the **Delay_time** data to give the echo-position time."
   ]
  },
  {
   "cell_type": "code",
   "execution_count": 35,
   "metadata": {},
   "outputs": [],
   "source": [
    "#the echo-position time is twice the delay time because the larmor precession is symmetric before and after the pi pulse\n",
    "echo_position = echo_data['delay']*2/1000\n",
    "echo_amp = echo_data['echo']"
   ]
  },
  {
   "cell_type": "markdown",
   "metadata": {},
   "source": [
    "### Plot it\n",
    "\n",
    "Plot the echo peak voltage vs. echo-position time."
   ]
  },
  {
   "cell_type": "code",
   "execution_count": 36,
   "metadata": {},
   "outputs": [
    {
     "data": {
      "text/plain": [
       "[<matplotlib.lines.Line2D at 0x21817cd7550>]"
      ]
     },
     "execution_count": 36,
     "metadata": {},
     "output_type": "execute_result"
    },
    {
     "data": {
      "image/png": "[encoded data removed]",
      "text/plain": [
       "<Figure size 648x468 with 1 Axes>"
      ]
     },
     "metadata": {
      "needs_background": "light"
     },
     "output_type": "display_data"
    }
   ],
   "source": [
    "# plot default\n",
    "mpl.rcParams['figure.figsize'] = 12.0,8.0  # Roughly 12 cm wde by 8 cm high\n",
    "mpl.rcParams['font.size'] = 14.0 # Use 14 point font\n",
    "\n",
    "# Make a fit and plot of echo peak voltage vs. echo-position time.\n",
    "plt.figure(figsize=(9,6.5))\n",
    "plt.grid()\n",
    "plt.title('echo peak voltage vs. echo-position time')\n",
    "plt.ylabel(r'echo peak voltage (V)')\n",
    "plt.xlabel(r'echo-position time (s)')\n",
    "plt.plot(echo_position,echo_amp,'ob')\n"
   ]
  },
  {
   "cell_type": "markdown",
   "metadata": {},
   "source": [
    "###  Fit it\n",
    "\n",
    "Use the LMFit Model class to fit the data to equation (15) in the instructions.  In this data set the number of pulses between the first FID and the echo, $n=1$.  In your fit function, set the value of $T_2$ to be a constant (not a parameter that is adjustable by the fit), and set it to the $T_2$ value obtained for pure water.\n",
    "\n",
    "Hint: to estimate a starting value for $K$, calculate the value of the function for the time $t$ at which it is half the height it is at $t=0$.  This is like a \"half-life\" even though the decay is not a simple exponential."
   ]
  },
  {
   "cell_type": "code",
   "execution_count": 37,
   "metadata": {},
   "outputs": [
    {
     "name": "stdout",
     "output_type": "stream",
     "text": [
      "independent variables: ['t']\n",
      "parameter names: ['Mi', 'K']\n"
     ]
    }
   ],
   "source": [
    "# import the exponential function\n",
    "from numpy import exp\n",
    "\n",
    "#set T2 to be the value we measure, i.e., 1540 ms\n",
    "t2 = 1.540\n",
    "\n",
    "## Define the fit function\n",
    "def echo_peak(t, Mi, K):\n",
    "    return Mi*exp(-t/t2)*exp(-K*t**3)\n",
    "\n",
    "## pull in the Model class and set up the fit\n",
    "from lmfit import Model\n",
    "\n",
    "#set the model to be the quation (15):\n",
    "model = Model(echo_peak)\n",
    "\n",
    "#check the variables and parameters\n",
    "print(f'independent variables: {model.independent_vars}')\n",
    "print(f'parameter names: {model.param_names}')\n",
    "\n",
    "#set parameters\n",
    "params = model.make_params(Mi = 4.4, K = 2.2)\n",
    "\n",
    "#caculate the prediction function\n",
    "result = model.fit(echo_amp, params, t = echo_position)\n",
    "\n"
   ]
  },
  {
   "cell_type": "code",
   "execution_count": 38,
   "metadata": {},
   "outputs": [
    {
     "name": "stdout",
     "output_type": "stream",
     "text": [
      "[[Model]]\n",
      "    Model(echo_peak)\n",
      "[[Fit Statistics]]\n",
      "    # fitting method   = leastsq\n",
      "    # function evals   = 22\n",
      "    # data points      = 12\n",
      "    # variables        = 2\n",
      "    chi-square         = 0.18193011\n",
      "    reduced chi-square = 0.01819301\n",
      "    Akaike info crit   = -46.2684720\n",
      "    Bayesian info crit = -45.2986587\n",
      "    R-squared          = 0.99219509\n",
      "[[Variables]]\n",
      "    Mi:  4.37239694 +/- 0.07126572 (1.63%) (init = 4.4)\n",
      "    K:   5669.81626 +/- 260.390990 (4.59%) (init = 2.2)\n",
      "[[Correlations]] (unreported correlations are < 0.100)\n",
      "    C(Mi, K) = 0.563\n"
     ]
    },
    {
     "data": {
      "image/png": "[encoded data removed]",
      "text/plain": [
       "<Figure size 648x468 with 1 Axes>"
      ]
     },
     "metadata": {
      "needs_background": "light"
     },
     "output_type": "display_data"
    }
   ],
   "source": [
    "#show and plot the results\n",
    "\n",
    "print(result.fit_report())\n",
    "\n",
    "plt.figure(figsize=(9,6.5))\n",
    "plt.grid()\n",
    "plt.title('echo peak voltage vs. echo-position time')\n",
    "plt.ylabel(r'echo peak voltage (V)')\n",
    "plt.xlabel(r'echo-position time (s)')\n",
    "plt.plot(echo_position,echo_amp,'ob',label = 'data')\n",
    "plt.plot(echo_position, result.best_fit, '-', label='best fit')\n",
    "plt.legend()\n",
    "plt.show()"
   ]
  },
  {
   "cell_type": "markdown",
   "metadata": {},
   "source": [
    "### Optional: Estimate the self-diffusion constant of water\n",
    "\n",
    "According to equation (16) in the instructions, \n",
    "\n",
    "$$ K = \\frac{\\gamma^2}{12}\\left(\\frac{\\partial B_0}{\\partial z}\\right)^2 D$$\n",
    "\n",
    "and $\\gamma\\Delta B_0 = \\Delta\\omega_0$, the spread of precession frequencies that determines $T_2^*$.  From this information and the width of the simple free induction decay, you can use the result for $K$ to estimate $D$ the diffusion constant for water (at room temperature).\n",
    "\n",
    "Try this, and compare your result against Hahn's: [Hahn, E. L., \"Spin echoes\", Phys. Rev., 80, 580-594 (1950)](http://courses.washington.edu/phys431/restricted/Hahn_PR80.pdf), p. 589."
   ]
  },
  {
   "cell_type": "code",
   "execution_count": 39,
   "metadata": {},
   "outputs": [
    {
     "name": "stdout",
     "output_type": "stream",
     "text": [
      "the fitted K is 5670\n"
     ]
    }
   ],
   "source": [
    "#import from the result above the constant K:\n",
    "k = result.params['K'].value\n",
    "print('the fitted K is {:.04g}'.format(k))"
   ]
  },
  {
   "attachments": {},
   "cell_type": "markdown",
   "metadata": {},
   "source": [
    "$\\frac{1}{T_2^*} = \\frac{1}{T_2} + \\gamma B_0$ by equaiton (12), where $T_2$ is measured to be 1540 ms, which is much larger than ${T_2^*}$, which we measured from the echo-pulse width to be 440 $\\mu s$. Therefore, we can write $B_0 = 1/(T_2^* * \\gamma)$ so the gradient $\\frac{\\partial B_0}{\\partial z} = \\frac{B_0}{d} = \\frac{1}{dT_2^* \\gamma}$, where $d$ is the diameter of the vial."
   ]
  },
  {
   "cell_type": "code",
   "execution_count": 40,
   "metadata": {},
   "outputs": [],
   "source": [
    "#import gyromagnetic ratio\n",
    "gamma = 2.6752e8\n",
    "\n",
    "#record the vial diameter and the echo-pulse width\n",
    "d = 6e-3\n",
    "t2s = 440e-6\n",
    "\n",
    "#calculate the magnetic field gradient\n",
    "\n",
    "gB = 1/(d*t2s*gamma)\n",
    "\n",
    "#calculate the diffusion constant \n",
    "D = 12*k/(gamma**2 * gB**2)\n"
   ]
  },
  {
   "cell_type": "code",
   "execution_count": 43,
   "metadata": {},
   "outputs": [
    {
     "name": "stdout",
     "output_type": "stream",
     "text": [
      "The magnetic field gradient is 0.001416 T/m\n",
      "The diffusion constant of water at room temperature is 4.742e-07 m^2/s\n"
     ]
    }
   ],
   "source": [
    "print('The magnetic field gradient is {:.04g} T/m'.format(gB))\n",
    "print('The diffusion constant of water at room temperature is {:.04g} m^2/s'.format(D))"
   ]
  }
 ],
 "metadata": {
  "kernelspec": {
   "display_name": "base",
   "language": "python",
   "name": "python3"
  },
  "language_info": {
   "codemirror_mode": {
    "name": "ipython",
    "version": 3
   },
   "file_extension": ".py",
   "mimetype": "text/x-python",
   "name": "python",
   "nbconvert_exporter": "python",
   "pygments_lexer": "ipython3",
   "version": "3.9.7"
  },
  "vscode": {
   "interpreter": {
    "hash": "81d803375a80ef438aed46dfb61bfcb23632280389862399a519a5b5dac99448"
   }
  }
 },
 "nbformat": 4,
 "nbformat_minor": 2
}

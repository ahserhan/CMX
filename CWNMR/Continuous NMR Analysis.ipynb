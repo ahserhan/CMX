{
 "cells": [
  {
   "attachments": {},
   "cell_type": "markdown",
   "metadata": {},
   "source": [
    "# Continuous NMR analysis\n"
   ]
  },
  {
   "cell_type": "markdown",
   "metadata": {},
   "source": [
    "## Task Summary\n",
    "\n",
    "#### Measure $\\gamma$ for protons\n",
    "1. Import measurements of frequency and magnetic field taken multiple times (5-10) in order to establish uncertainty of individual measurements.  \n",
    "2. Calculate the mean and standard deviation of each set of measurements.  Also calculate the percent uncetainty in each set. Use these results to establish uncertainties on the rest of the data points.\n",
    "3. Import measurements of the resonant frequency $f_{\\rm res}$ vs. static field $B_0$ for protons in water (+CuSO<sub>4</sub>) across the range of frequencies available with the oscillator.  \n",
    "4. Include the uncertainty calculated in step 2.\n",
    "5. Make a line fit and a plot of the data with the fit (use LMfit) to get the slope of $f_{\\rm res}$ versus $B_0$.\n",
    "6. Calculate $\\gamma$ and the $g$-factor for the proton, including uncertainty.\n",
    "\n",
    "#### Measure the resonance of <sup>19</sup>F versus <sup>1</sup>H\n",
    "1. Import measurements listing measured B-field along with resonant frequencies of <sup>1</sup>H and <sup>19</sup>F at those field strengths.\n",
    "2. Fit a line to the resonant frequency of <sup>19</sup>F versus resonant frequency of <sup>1</sup>H from the above data set, plot it (use LMfit) and obtain slope and its uncertainty.\n",
    "3. From the results calculate $\\gamma$ and associated $g$-factor for <sup>19</sup>F from the fit result and the accepted values known for <sup>1</sup>H.\n",
    "4. Comment in your Group Notebook on the topic of observable chemical shift for fluorine\n",
    "\n",
    "#### Trend of $T_2^*$ with paramagnetic ion concentration\n",
    "If you can get quantitative values for how $T_2^*$ decays for a range of concentration, make a plot to see the trend.\n"
   ]
  },
  {
   "cell_type": "code",
   "execution_count": 2,
   "metadata": {},
   "outputs": [],
   "source": [
    "# Usually import packages via a handle to the functions in them using import ... as ...\n",
    "#\n",
    "import numpy as np\n",
    "import matplotlib.pyplot as plt\n",
    "import matplotlib as mpl\n",
    "import pandas as pd\n",
    "import uncertainties as unc\n",
    "import scipy.constants as const\n",
    "%matplotlib inline"
   ]
  },
  {
   "cell_type": "code",
   "execution_count": 3,
   "metadata": {},
   "outputs": [],
   "source": [
    "# Useful plot default\n",
    "mpl.rcParams['figure.figsize'] = 12.0,8.0  # Roughly 12 cm wde by 8 cm high\n",
    "mpl.rcParams['font.size'] = 14.0 # Use 14 point font"
   ]
  },
  {
   "attachments": {},
   "cell_type": "markdown",
   "metadata": {},
   "source": [
    "## Magnetic moment of the proton\n",
    "\n",
    "### Read in the multi-measurement data\n",
    "\n",
    "\n"
   ]
  },
  {
   "cell_type": "code",
   "execution_count": 4,
   "metadata": {},
   "outputs": [
    {
     "data": {
      "text/html": [
       "<div>\n",
       "<style scoped>\n",
       "    .dataframe tbody tr th:only-of-type {\n",
       "        vertical-align: middle;\n",
       "    }\n",
       "\n",
       "    .dataframe tbody tr th {\n",
       "        vertical-align: top;\n",
       "    }\n",
       "\n",
       "    .dataframe thead th {\n",
       "        text-align: right;\n",
       "    }\n",
       "</style>\n",
       "<table border=\"1\" class=\"dataframe\">\n",
       "  <thead>\n",
       "    <tr style=\"text-align: right;\">\n",
       "      <th></th>\n",
       "      <th>B1</th>\n",
       "      <th>RF1</th>\n",
       "      <th>B2</th>\n",
       "      <th>RF2</th>\n",
       "      <th>B3</th>\n",
       "      <th>RF3</th>\n",
       "    </tr>\n",
       "  </thead>\n",
       "  <tbody>\n",
       "    <tr>\n",
       "      <th>0</th>\n",
       "      <td>1.9</td>\n",
       "      <td>8.13221</td>\n",
       "      <td>2.199</td>\n",
       "      <td>9.40091</td>\n",
       "      <td>2.599</td>\n",
       "      <td>11.10260</td>\n",
       "    </tr>\n",
       "    <tr>\n",
       "      <th>1</th>\n",
       "      <td>1.9</td>\n",
       "      <td>8.13261</td>\n",
       "      <td>2.199</td>\n",
       "      <td>9.40074</td>\n",
       "      <td>2.599</td>\n",
       "      <td>11.10185</td>\n",
       "    </tr>\n",
       "    <tr>\n",
       "      <th>2</th>\n",
       "      <td>1.9</td>\n",
       "      <td>8.13167</td>\n",
       "      <td>2.199</td>\n",
       "      <td>9.40010</td>\n",
       "      <td>2.599</td>\n",
       "      <td>11.10155</td>\n",
       "    </tr>\n",
       "    <tr>\n",
       "      <th>3</th>\n",
       "      <td>1.9</td>\n",
       "      <td>8.13233</td>\n",
       "      <td>2.199</td>\n",
       "      <td>9.40013</td>\n",
       "      <td>2.599</td>\n",
       "      <td>11.10150</td>\n",
       "    </tr>\n",
       "    <tr>\n",
       "      <th>4</th>\n",
       "      <td>1.9</td>\n",
       "      <td>8.13189</td>\n",
       "      <td>2.199</td>\n",
       "      <td>9.40036</td>\n",
       "      <td>2.599</td>\n",
       "      <td>11.10162</td>\n",
       "    </tr>\n",
       "    <tr>\n",
       "      <th>5</th>\n",
       "      <td>1.9</td>\n",
       "      <td>8.13164</td>\n",
       "      <td>2.199</td>\n",
       "      <td>9.40046</td>\n",
       "      <td>2.599</td>\n",
       "      <td>11.10166</td>\n",
       "    </tr>\n",
       "    <tr>\n",
       "      <th>6</th>\n",
       "      <td>1.9</td>\n",
       "      <td>8.13229</td>\n",
       "      <td>2.199</td>\n",
       "      <td>9.39991</td>\n",
       "      <td>2.599</td>\n",
       "      <td>11.10157</td>\n",
       "    </tr>\n",
       "    <tr>\n",
       "      <th>7</th>\n",
       "      <td>1.9</td>\n",
       "      <td>8.13237</td>\n",
       "      <td>2.199</td>\n",
       "      <td>9.39998</td>\n",
       "      <td>2.599</td>\n",
       "      <td>11.10147</td>\n",
       "    </tr>\n",
       "    <tr>\n",
       "      <th>8</th>\n",
       "      <td>1.9</td>\n",
       "      <td>8.13235</td>\n",
       "      <td>2.199</td>\n",
       "      <td>9.39993</td>\n",
       "      <td>2.599</td>\n",
       "      <td>11.10171</td>\n",
       "    </tr>\n",
       "    <tr>\n",
       "      <th>9</th>\n",
       "      <td>1.9</td>\n",
       "      <td>8.13234</td>\n",
       "      <td>2.198</td>\n",
       "      <td>9.39880</td>\n",
       "      <td>2.599</td>\n",
       "      <td>11.10157</td>\n",
       "    </tr>\n",
       "    <tr>\n",
       "      <th>10</th>\n",
       "      <td>1.9</td>\n",
       "      <td>8.13233</td>\n",
       "      <td>NaN</td>\n",
       "      <td>NaN</td>\n",
       "      <td>NaN</td>\n",
       "      <td>NaN</td>\n",
       "    </tr>\n",
       "  </tbody>\n",
       "</table>\n",
       "</div>"
      ],
      "text/plain": [
       "     B1      RF1     B2      RF2     B3       RF3\n",
       "0   1.9  8.13221  2.199  9.40091  2.599  11.10260\n",
       "1   1.9  8.13261  2.199  9.40074  2.599  11.10185\n",
       "2   1.9  8.13167  2.199  9.40010  2.599  11.10155\n",
       "3   1.9  8.13233  2.199  9.40013  2.599  11.10150\n",
       "4   1.9  8.13189  2.199  9.40036  2.599  11.10162\n",
       "5   1.9  8.13164  2.199  9.40046  2.599  11.10166\n",
       "6   1.9  8.13229  2.199  9.39991  2.599  11.10157\n",
       "7   1.9  8.13237  2.199  9.39998  2.599  11.10147\n",
       "8   1.9  8.13235  2.199  9.39993  2.599  11.10171\n",
       "9   1.9  8.13234  2.198  9.39880  2.599  11.10157\n",
       "10  1.9  8.13233    NaN      NaN    NaN       NaN"
      ]
     },
     "execution_count": 4,
     "metadata": {},
     "output_type": "execute_result"
    }
   ],
   "source": [
    "# Read in the data to a Pandas dataframe and print a table.\n",
    "multi = pd.read_csv('multi_measurement.csv')\n",
    "multi"
   ]
  },
  {
   "attachments": {},
   "cell_type": "markdown",
   "metadata": {},
   "source": [
    "Calculate the mean and std for each RF frequency. Since we see that the magnetic field are mostly the same, we will take the mode as the mean value; we also noted that the systematic precision for the gauss meter is 0.001 kG, we will take 0.005 kG as the standard deviation that goes into any error propagation."
   ]
  },
  {
   "cell_type": "code",
   "execution_count": 5,
   "metadata": {},
   "outputs": [
    {
     "name": "stdout",
     "output_type": "stream",
     "text": [
      "The mean of RF1 is 8.13218\n",
      "The mean of RF2 is 9.40013\n",
      "The mean of RF3 is 11.1017\n",
      "The standard deviation of RF1 is 0.00031\n",
      "The standard deviation of RF2 is 0.00058\n",
      "The standard deviation of RF3 is 0.00033\n",
      "The percent uncertainty of RF1 is 0.00383%\n",
      "The percent uncertainty of RF2 is 0.00617%\n",
      "The percent uncertainty of RF3 is 0.00299%\n"
     ]
    }
   ],
   "source": [
    "# Calculate the requested quantities\n",
    "rf1_mean = multi['RF1'].mean()\n",
    "rf2_mean = multi['RF2'].mean()\n",
    "rf3_mean = multi['RF3'].mean()\n",
    "rf1_std = multi['RF1'].std()\n",
    "rf2_std = multi['RF2'].std()\n",
    "rf3_std = multi['RF3'].std()\n",
    "print('The mean of RF1 is', f\"{rf1_mean:.6}\")\n",
    "print('The mean of RF2 is', f\"{rf2_mean:.6}\")\n",
    "print('The mean of RF3 is', f\"{rf3_mean:.6}\")\n",
    "print('The standard deviation of RF1 is', f\"{rf1_std:.5f}\")\n",
    "print('The standard deviation of RF2 is', f\"{rf2_std:.5f}\")\n",
    "print('The standard deviation of RF3 is', f\"{rf3_std:.5f}\")\n",
    "print('The percent uncertainty of RF1 is', f\"{rf1_std/rf1_mean:.5%}\")\n",
    "print('The percent uncertainty of RF2 is', f\"{rf2_std/rf2_mean:.5%}\")\n",
    "print('The percent uncertainty of RF3 is', f\"{rf3_std/rf3_mean:.5%}\")\n",
    "\n"
   ]
  },
  {
   "attachments": {},
   "cell_type": "markdown",
   "metadata": {},
   "source": [
    "The standard deviations are (nearly) the same, which are all very small. Therefore, we take the standard deviation for the middle data (RF2) because it is the largest among the three as well as the one for which we have the largest confidence (since the signal is more clear for this frequency.)\n"
   ]
  },
  {
   "cell_type": "markdown",
   "metadata": {},
   "source": [
    "### Read in the resonance data for protons\n",
    "\n",
    "Use `read_csv()` as before.  You should have a table with at least 2 columns: resonance frequency and magnetic field. \n",
    "\n",
    "Print a table."
   ]
  },
  {
   "cell_type": "code",
   "execution_count": 6,
   "metadata": {},
   "outputs": [
    {
     "data": {
      "text/html": [
       "<div>\n",
       "<style scoped>\n",
       "    .dataframe tbody tr th:only-of-type {\n",
       "        vertical-align: middle;\n",
       "    }\n",
       "\n",
       "    .dataframe tbody tr th {\n",
       "        vertical-align: top;\n",
       "    }\n",
       "\n",
       "    .dataframe thead th {\n",
       "        text-align: right;\n",
       "    }\n",
       "</style>\n",
       "<table border=\"1\" class=\"dataframe\">\n",
       "  <thead>\n",
       "    <tr style=\"text-align: right;\">\n",
       "      <th></th>\n",
       "      <th>B</th>\n",
       "      <th>RF</th>\n",
       "    </tr>\n",
       "  </thead>\n",
       "  <tbody>\n",
       "    <tr>\n",
       "      <th>0</th>\n",
       "      <td>1.900</td>\n",
       "      <td>8.13217</td>\n",
       "    </tr>\n",
       "    <tr>\n",
       "      <th>1</th>\n",
       "      <td>1.999</td>\n",
       "      <td>8.55374</td>\n",
       "    </tr>\n",
       "    <tr>\n",
       "      <th>2</th>\n",
       "      <td>2.101</td>\n",
       "      <td>8.98077</td>\n",
       "    </tr>\n",
       "    <tr>\n",
       "      <th>3</th>\n",
       "      <td>2.200</td>\n",
       "      <td>9.40013</td>\n",
       "    </tr>\n",
       "    <tr>\n",
       "      <th>4</th>\n",
       "      <td>2.301</td>\n",
       "      <td>9.83182</td>\n",
       "    </tr>\n",
       "    <tr>\n",
       "      <th>5</th>\n",
       "      <td>2.400</td>\n",
       "      <td>10.26006</td>\n",
       "    </tr>\n",
       "    <tr>\n",
       "      <th>6</th>\n",
       "      <td>2.500</td>\n",
       "      <td>10.68068</td>\n",
       "    </tr>\n",
       "    <tr>\n",
       "      <th>7</th>\n",
       "      <td>2.600</td>\n",
       "      <td>11.10171</td>\n",
       "    </tr>\n",
       "  </tbody>\n",
       "</table>\n",
       "</div>"
      ],
      "text/plain": [
       "       B        RF\n",
       "0  1.900   8.13217\n",
       "1  1.999   8.55374\n",
       "2  2.101   8.98077\n",
       "3  2.200   9.40013\n",
       "4  2.301   9.83182\n",
       "5  2.400  10.26006\n",
       "6  2.500  10.68068\n",
       "7  2.600  11.10171"
      ]
     },
     "execution_count": 6,
     "metadata": {},
     "output_type": "execute_result"
    }
   ],
   "source": [
    "# Read in the data, and print the dataframe\n",
    "h1_data = pd.read_csv('H1.csv')\n",
    "h1_data"
   ]
  },
  {
   "attachments": {},
   "cell_type": "markdown",
   "metadata": {},
   "source": [
    "We then add the uncertianty array for B and RF, respectively, to this table."
   ]
  },
  {
   "cell_type": "code",
   "execution_count": 7,
   "metadata": {},
   "outputs": [
    {
     "data": {
      "text/html": [
       "<div>\n",
       "<style scoped>\n",
       "    .dataframe tbody tr th:only-of-type {\n",
       "        vertical-align: middle;\n",
       "    }\n",
       "\n",
       "    .dataframe tbody tr th {\n",
       "        vertical-align: top;\n",
       "    }\n",
       "\n",
       "    .dataframe thead th {\n",
       "        text-align: right;\n",
       "    }\n",
       "</style>\n",
       "<table border=\"1\" class=\"dataframe\">\n",
       "  <thead>\n",
       "    <tr style=\"text-align: right;\">\n",
       "      <th></th>\n",
       "      <th>B</th>\n",
       "      <th>B_unc</th>\n",
       "      <th>RF</th>\n",
       "      <th>RF_unc</th>\n",
       "    </tr>\n",
       "  </thead>\n",
       "  <tbody>\n",
       "    <tr>\n",
       "      <th>0</th>\n",
       "      <td>1.900</td>\n",
       "      <td>0.0005</td>\n",
       "      <td>8.13217</td>\n",
       "      <td>0.00058</td>\n",
       "    </tr>\n",
       "    <tr>\n",
       "      <th>1</th>\n",
       "      <td>1.999</td>\n",
       "      <td>0.0005</td>\n",
       "      <td>8.55374</td>\n",
       "      <td>0.00058</td>\n",
       "    </tr>\n",
       "    <tr>\n",
       "      <th>2</th>\n",
       "      <td>2.101</td>\n",
       "      <td>0.0005</td>\n",
       "      <td>8.98077</td>\n",
       "      <td>0.00058</td>\n",
       "    </tr>\n",
       "    <tr>\n",
       "      <th>3</th>\n",
       "      <td>2.200</td>\n",
       "      <td>0.0005</td>\n",
       "      <td>9.40013</td>\n",
       "      <td>0.00058</td>\n",
       "    </tr>\n",
       "    <tr>\n",
       "      <th>4</th>\n",
       "      <td>2.301</td>\n",
       "      <td>0.0005</td>\n",
       "      <td>9.83182</td>\n",
       "      <td>0.00058</td>\n",
       "    </tr>\n",
       "    <tr>\n",
       "      <th>5</th>\n",
       "      <td>2.400</td>\n",
       "      <td>0.0005</td>\n",
       "      <td>10.26006</td>\n",
       "      <td>0.00058</td>\n",
       "    </tr>\n",
       "    <tr>\n",
       "      <th>6</th>\n",
       "      <td>2.500</td>\n",
       "      <td>0.0005</td>\n",
       "      <td>10.68068</td>\n",
       "      <td>0.00058</td>\n",
       "    </tr>\n",
       "    <tr>\n",
       "      <th>7</th>\n",
       "      <td>2.600</td>\n",
       "      <td>0.0005</td>\n",
       "      <td>11.10171</td>\n",
       "      <td>0.00058</td>\n",
       "    </tr>\n",
       "  </tbody>\n",
       "</table>\n",
       "</div>"
      ],
      "text/plain": [
       "       B   B_unc        RF   RF_unc\n",
       "0  1.900  0.0005   8.13217  0.00058\n",
       "1  1.999  0.0005   8.55374  0.00058\n",
       "2  2.101  0.0005   8.98077  0.00058\n",
       "3  2.200  0.0005   9.40013  0.00058\n",
       "4  2.301  0.0005   9.83182  0.00058\n",
       "5  2.400  0.0005  10.26006  0.00058\n",
       "6  2.500  0.0005  10.68068  0.00058\n",
       "7  2.600  0.0005  11.10171  0.00058"
      ]
     },
     "execution_count": 7,
     "metadata": {},
     "output_type": "execute_result"
    }
   ],
   "source": [
    "# Include the uncertainty results as another column in the dataframe \n",
    "uh1_data = pd.read_csv('H1_with_unc.csv')\n",
    "uh1_data"
   ]
  },
  {
   "cell_type": "markdown",
   "metadata": {},
   "source": [
    "### Fit the data to extract the slope\n",
    "\n",
    "Use LMfit.  See the examples."
   ]
  },
  {
   "cell_type": "code",
   "execution_count": 8,
   "metadata": {},
   "outputs": [],
   "source": [
    "# Set  up the Model\n",
    "\n",
    "# Import the Linear model.\n",
    "from lmfit.models import LinearModel\n",
    "\n",
    "# create an instance of the model\n",
    "line = LinearModel()\n"
   ]
  },
  {
   "cell_type": "code",
   "execution_count": 9,
   "metadata": {},
   "outputs": [
    {
     "data": {
      "text/html": [
       "<h2> Model</h2> Model(linear) <h2>Fit Statistics</h2><table><tr><td>fitting method</td><td>leastsq</td><td></td></tr><tr><td># function evals</td><td>4</td><td></td></tr><tr><td># data points</td><td>8</td><td></td></tr><tr><td># variables</td><td>2</td><td></td></tr><tr><td>chi-square</td><td> 262.091593</td><td></td></tr><tr><td>reduced chi-square</td><td> 43.6819322</td><td></td></tr><tr><td>Akaike info crit.</td><td> 31.9140199</td><td></td></tr><tr><td>Bayesian info crit.</td><td> 32.0729030</td><td></td></tr><tr><td>R-squared</td><td>-33.5652694</td><td></td></tr></table><h2>Variables</h2><table><tr><th> name </th><th> value </th><th> standard error </th><th> relative error </th><th> initial value </th><th> min </th><th> max </th><th> vary </th></tr><tr><td> slope </td><td>  4.24739711 </td><td>  0.00591286 </td><td> (0.14%) </td><td> 4.247397106193954 </td><td>        -inf </td><td>         inf </td><td> True </td></tr><tr><td> intercept </td><td>  0.06046059 </td><td>  0.01337353 </td><td> (22.12%) </td><td> 0.06046058642532794 </td><td>        -inf </td><td>         inf </td><td> True </td></tr></table><h2>Correlations (unreported correlations are < 0.100)</h2><table><tr><td>slope</td><td>intercept</td><td>-0.9949</td></tr></table>"
      ],
      "text/plain": [
       "<lmfit.model.ModelResult at 0x28260c66580>"
      ]
     },
     "execution_count": 9,
     "metadata": {},
     "output_type": "execute_result"
    }
   ],
   "source": [
    "# Get starting parameters. \n",
    "start_params = line.guess(uh1_data['RF'], x=uh1_data['B'])\n",
    "\n",
    "# Feed these into the fitter and run it.\n",
    "Line_fit = line.fit(uh1_data['RF'], start_params, x=uh1_data['B'], weights=1/uh1_data['RF_unc'])\n",
    "\n",
    "# Print the fit results.\n",
    "Line_fit"
   ]
  },
  {
   "cell_type": "code",
   "execution_count": 10,
   "metadata": {
    "scrolled": false
   },
   "outputs": [
    {
     "data": {
      "image/png": "[encoded data removed]",
      "text/plain": [
       "<Figure size 864x864 with 2 Axes>"
      ]
     },
     "metadata": {
      "needs_background": "light"
     },
     "output_type": "display_data"
    }
   ],
   "source": [
    "# Make a plot.\n",
    "Line_fit.plot()\n",
    "plt.grid(True)\n",
    "plt.title('NMR resonance measurement for protons')\n",
    "plt.xlabel('Magnetic field (kG)')\n",
    "plt.ylabel('Resonant frequency (MHz)');"
   ]
  },
  {
   "cell_type": "markdown",
   "metadata": {},
   "source": [
    "### Extract the slope with uncertainty from the fit parameters\n"
   ]
  },
  {
   "cell_type": "code",
   "execution_count": 11,
   "metadata": {},
   "outputs": [
    {
     "name": "stdout",
     "output_type": "stream",
     "text": [
      "gamma for protons = 4.2474±0.0059 MHz/kG\n"
     ]
    }
   ],
   "source": [
    "proton_slope = unc.ufloat(Line_fit.params['slope'].value, Line_fit.params['slope'].stderr,'proton_slope')\n",
    "print('gamma for protons = {:.2uP} MHz/kG'.format(proton_slope))"
   ]
  },
  {
   "attachments": {},
   "cell_type": "markdown",
   "metadata": {},
   "source": [
    "Calculate $\\gamma$ in rad/(s-T) to compare to accepted values:\n"
   ]
  },
  {
   "cell_type": "code",
   "execution_count": 12,
   "metadata": {},
   "outputs": [
    {
     "name": "stdout",
     "output_type": "stream",
     "text": [
      "Expected value of gamma for proton: 42.5775 MHz/T\n",
      "Calculated value of gamma for proton: 42.4740±0.0591 MHz/T\n",
      "In radians/(seconds-Tesla), these are:\n",
      "Expected value of gamma for proton: 2.67522e+08 radians/(seconds-Tesla)\n",
      "Calculated value of gamma for proton: (2.66872±0.00372)×10⁸ radians/(seconds-Tesla)\n"
     ]
    }
   ],
   "source": [
    "# Here is an example of how to access the scipy.constants\n",
    "\n",
    "expected_gamma = const.value('nuclear magneton in MHz/T')*const.value('proton g factor')\n",
    "print('Expected value of gamma for proton: {:.6g} MHz/T'.format(expected_gamma))\n",
    "print('Calculated value of gamma for proton: {:.6gP} MHz/T'.format(proton_slope*10))\n",
    "print('In radians/(seconds-Tesla), these are:')\n",
    "print('Expected value of gamma for proton: {:.6g} radians/(seconds-Tesla)'.format(expected_gamma*2*np.pi*1e6))\n",
    "print('Calculated value of gamma for proton: {:.6gP} radians/(seconds-Tesla)'.format(proton_slope*10*2*np.pi*1e6))"
   ]
  },
  {
   "cell_type": "markdown",
   "metadata": {},
   "source": [
    "Calculate the proton $g$-factor from your result and compare to the expected value."
   ]
  },
  {
   "cell_type": "code",
   "execution_count": 13,
   "metadata": {},
   "outputs": [
    {
     "name": "stdout",
     "output_type": "stream",
     "text": [
      "Expected value of g-factor: 5.58569 \n",
      "Calculated value of g-factor: 5.57212±0.00776 \n"
     ]
    }
   ],
   "source": [
    "# You code this\n",
    "proton_g = proton_slope * 1e7 * const.value('Planck constant') / const.value('nuclear magneton')\n",
    "print('Expected value of g-factor: {:.6g} '.format(const.value('proton g factor')))\n",
    "print('Calculated value of g-factor: {:.6gP} '.format(proton_g))"
   ]
  },
  {
   "cell_type": "markdown",
   "metadata": {},
   "source": [
    "## Fluorine-19 versus Proton (Hydrogen-1) resonance\n",
    "\n",
    "### Read in the data\n",
    "\n",
    "Also, print a table."
   ]
  },
  {
   "cell_type": "code",
   "execution_count": 21,
   "metadata": {},
   "outputs": [
    {
     "data": {
      "text/html": [
       "<div>\n",
       "<style scoped>\n",
       "    .dataframe tbody tr th:only-of-type {\n",
       "        vertical-align: middle;\n",
       "    }\n",
       "\n",
       "    .dataframe tbody tr th {\n",
       "        vertical-align: top;\n",
       "    }\n",
       "\n",
       "    .dataframe thead th {\n",
       "        text-align: right;\n",
       "    }\n",
       "</style>\n",
       "<table border=\"1\" class=\"dataframe\">\n",
       "  <thead>\n",
       "    <tr style=\"text-align: right;\">\n",
       "      <th></th>\n",
       "      <th>B</th>\n",
       "      <th>RF_H</th>\n",
       "      <th>RF_F</th>\n",
       "    </tr>\n",
       "  </thead>\n",
       "  <tbody>\n",
       "    <tr>\n",
       "      <th>0</th>\n",
       "      <td>1.897</td>\n",
       "      <td>8.11669</td>\n",
       "      <td>7.63623</td>\n",
       "    </tr>\n",
       "    <tr>\n",
       "      <th>1</th>\n",
       "      <td>1.999</td>\n",
       "      <td>8.55471</td>\n",
       "      <td>8.04878</td>\n",
       "    </tr>\n",
       "    <tr>\n",
       "      <th>2</th>\n",
       "      <td>2.101</td>\n",
       "      <td>8.98550</td>\n",
       "      <td>8.45352</td>\n",
       "    </tr>\n",
       "    <tr>\n",
       "      <th>3</th>\n",
       "      <td>2.199</td>\n",
       "      <td>9.40588</td>\n",
       "      <td>8.84997</td>\n",
       "    </tr>\n",
       "    <tr>\n",
       "      <th>4</th>\n",
       "      <td>2.298</td>\n",
       "      <td>9.82569</td>\n",
       "      <td>9.24413</td>\n",
       "    </tr>\n",
       "    <tr>\n",
       "      <th>5</th>\n",
       "      <td>2.400</td>\n",
       "      <td>10.25680</td>\n",
       "      <td>9.65102</td>\n",
       "    </tr>\n",
       "    <tr>\n",
       "      <th>6</th>\n",
       "      <td>2.500</td>\n",
       "      <td>10.68592</td>\n",
       "      <td>10.05218</td>\n",
       "    </tr>\n",
       "    <tr>\n",
       "      <th>7</th>\n",
       "      <td>2.600</td>\n",
       "      <td>11.10731</td>\n",
       "      <td>10.45049</td>\n",
       "    </tr>\n",
       "  </tbody>\n",
       "</table>\n",
       "</div>"
      ],
      "text/plain": [
       "       B      RF_H      RF_F\n",
       "0  1.897   8.11669   7.63623\n",
       "1  1.999   8.55471   8.04878\n",
       "2  2.101   8.98550   8.45352\n",
       "3  2.199   9.40588   8.84997\n",
       "4  2.298   9.82569   9.24413\n",
       "5  2.400  10.25680   9.65102\n",
       "6  2.500  10.68592  10.05218\n",
       "7  2.600  11.10731  10.45049"
      ]
     },
     "execution_count": 21,
     "metadata": {},
     "output_type": "execute_result"
    }
   ],
   "source": [
    "# Use pd.read_csv(), as you did earlier\n",
    "compare_data = pd.read_csv('F19.csv')\n",
    "compare_data"
   ]
  },
  {
   "cell_type": "markdown",
   "metadata": {},
   "source": [
    "### Plot and fit the data.  \n",
    "\n",
    "BUT: Here you are comparing the resonant frequencies only!  The magnetic field measurement does not matter, as long as it is stable between the two frequency measurements for each data point"
   ]
  },
  {
   "cell_type": "code",
   "execution_count": 25,
   "metadata": {},
   "outputs": [
    {
     "data": {
      "text/plain": [
       "[<matplotlib.lines.Line2D at 0x282617d9580>]"
      ]
     },
     "execution_count": 25,
     "metadata": {},
     "output_type": "execute_result"
    },
    {
     "data": {
      "image/png": "[encoded data removed]",
      "text/plain": [
       "<Figure size 648x468 with 1 Axes>"
      ]
     },
     "metadata": {
      "needs_background": "light"
     },
     "output_type": "display_data"
    }
   ],
   "source": [
    "# Make a fit and plot of fluorine resonant frequency versus hydrogen resonant frequency.\n",
    "rf_h = compare_data['RF_H']\n",
    "rf_f = compare_data['RF_F']\n",
    "plt.figure(figsize=(9,6.5))\n",
    "plt.grid()\n",
    "plt.title('Resonance radio frequency for Fluorine-19 versus Proton (Hydrogen-1)')\n",
    "plt.ylabel(r'Fluorine-19 resonance frequency (MHz)')\n",
    "plt.xlabel(r'Proton (Hydrogen-1) resonance frequency (MHz)')\n",
    "plt.plot(rf_h,rf_f,'ob')"
   ]
  },
  {
   "cell_type": "markdown",
   "metadata": {},
   "source": [
    "### Use the result\n",
    "\n",
    "Obtain the slope with uncertainty and with the result calculate a value for $\\gamma_F$ and the <sup>19</sup>F $g$-factor. "
   ]
  },
  {
   "attachments": {},
   "cell_type": "markdown",
   "metadata": {},
   "source": [
    "Fit:"
   ]
  },
  {
   "cell_type": "code",
   "execution_count": 26,
   "metadata": {},
   "outputs": [
    {
     "data": {
      "text/html": [
       "<h2> Model</h2> Model(linear) <h2>Fit Statistics</h2><table><tr><td>fitting method</td><td>leastsq</td><td></td></tr><tr><td># function evals</td><td>6</td><td></td></tr><tr><td># data points</td><td>8</td><td></td></tr><tr><td># variables</td><td>2</td><td></td></tr><tr><td>chi-square</td><td> 12.2890296</td><td></td></tr><tr><td>reduced chi-square</td><td> 2.04817160</td><td></td></tr><tr><td>Akaike info crit.</td><td> 7.43412338</td><td></td></tr><tr><td>Bayesian info crit.</td><td> 7.59300646</td><td></td></tr><tr><td>R-squared</td><td>-0.81747024</td><td></td></tr></table><h2>Variables</h2><table><tr><th> name </th><th> value </th><th> standard error </th><th> relative error </th><th> initial value </th><th> min </th><th> max </th><th> vary </th></tr><tr><td> slope </td><td>  0.94080429 </td><td>  3.0008e-04 </td><td> (0.03%) </td><td> 0.9408042861625256 </td><td>        -inf </td><td>         inf </td><td> True </td></tr><tr><td> intercept </td><td>  2.8118e-04 </td><td>  0.00290153 </td><td> (1031.92%) </td><td> 0.00028117863557068715 </td><td>        -inf </td><td>         inf </td><td> True </td></tr></table><h2>Correlations (unreported correlations are < 0.100)</h2><table><tr><td>slope</td><td>intercept</td><td>-0.9949</td></tr></table>"
      ],
      "text/plain": [
       "<lmfit.model.ModelResult at 0x282617bdfa0>"
      ]
     },
     "execution_count": 26,
     "metadata": {},
     "output_type": "execute_result"
    }
   ],
   "source": [
    "start_params = line.guess(rf_f, x=rf_h)\n",
    "Line_fit = line.fit(rf_f, start_params, x=rf_h, weights=1/uh1_data['RF_unc'])\n",
    "Line_fit"
   ]
  },
  {
   "attachments": {},
   "cell_type": "markdown",
   "metadata": {},
   "source": [
    "Plot fit:"
   ]
  },
  {
   "cell_type": "code",
   "execution_count": 27,
   "metadata": {},
   "outputs": [
    {
     "data": {
      "text/plain": [
       "Text(0.5, 0, 'Proton (Hydrogen-1) resonance frequency (MHz)')"
      ]
     },
     "execution_count": 27,
     "metadata": {},
     "output_type": "execute_result"
    },
    {
     "data": {
      "image/png": "[encoded data removed]",
      "text/plain": [
       "<Figure size 864x864 with 2 Axes>"
      ]
     },
     "metadata": {
      "needs_background": "light"
     },
     "output_type": "display_data"
    }
   ],
   "source": [
    "Line_fit.plot()\n",
    "plt.grid(True)\n",
    "plt.title('Resonance radio frequency for Fluorine-19 versus Proton (Hydrogen-1)')\n",
    "plt.ylabel(r'Fluorine-19 resonance frequency (MHz)')\n",
    "plt.xlabel(r'Proton (Hydrogen-1) resonance frequency (MHz)')"
   ]
  },
  {
   "attachments": {},
   "cell_type": "markdown",
   "metadata": {},
   "source": [
    "Get slope: becuase we kept the magnetic fields the same for these measurements, we know that (from the relation $\\gamma \\propto f_{resonance}$ for fixed $B$) the gyromagnetic ratio for F-19 can be calculated by $\\gamma_{F} = \\text{slope} * \\gamma_{proton}$."
   ]
  },
  {
   "cell_type": "code",
   "execution_count": 44,
   "metadata": {},
   "outputs": [
    {
     "name": "stdout",
     "output_type": "stream",
     "text": [
      "gyromagnetic ratio for Fluorine-19: 3.9960±0.0057 MHz/kG. This is also (2.5107±0.0036)×10⁸ radians/(seconds-Tesla)\n",
      "g factor for Fluorine-19: 5.2423±0.0075.\n"
     ]
    }
   ],
   "source": [
    "compare_slope = unc.ufloat(Line_fit.params['slope'].value, Line_fit.params['slope'].stderr,'compare_slope')\n",
    "gamma_f = proton_slope * compare_slope\n",
    "print('gyromagnetic ratio for Fluorine-19: {:.2uP} MHz/kG.'.format(gamma_f),'This is also {:.2uP} radians/(seconds-Tesla)'.format(gamma_f*10*2*np.pi*1e6))\n",
    "\n",
    "fluorine_g = gamma_f * 1e7 * const.value('Planck constant') / const.value('nuclear magneton')\n",
    "print('g factor for Fluorine-19: {:.2uP}.'.format(fluorine_g))"
   ]
  },
  {
   "cell_type": "markdown",
   "metadata": {},
   "source": [
    "## Trend of $T_2^*$ as a function of paramagnetic ion concentration\n",
    "\n",
    "From the scope screen images, extract estimates of the relaxation time $T_2^*$ as a function of concentration of the copper sulfate ions.  \n",
    "\n",
    "Plot these on a plot with double-log axes.  To change the axis type of a plot use the functions\n",
    "\n",
    "    plt.xscale('log')\n",
    "    plt.yscale('log')\n",
    "    \n",
    "You should see a trend that the relaxation time gets a bit longer and then levels out as the concentration is decreased."
   ]
  },
  {
   "cell_type": "code",
   "execution_count": 17,
   "metadata": {},
   "outputs": [],
   "source": [
    "# You code this\n"
   ]
  },
  {
   "cell_type": "code",
   "execution_count": null,
   "metadata": {},
   "outputs": [],
   "source": []
  }
 ],
 "metadata": {
  "kernelspec": {
   "display_name": "base",
   "language": "python",
   "name": "python3"
  },
  "language_info": {
   "codemirror_mode": {
    "name": "ipython",
    "version": 3
   },
   "file_extension": ".py",
   "mimetype": "text/x-python",
   "name": "python",
   "nbconvert_exporter": "python",
   "pygments_lexer": "ipython3",
   "version": "3.9.7"
  },
  "vscode": {
   "interpreter": {
    "hash": "81d803375a80ef438aed46dfb61bfcb23632280389862399a519a5b5dac99448"
   }
  }
 },
 "nbformat": 4,
 "nbformat_minor": 4
}
